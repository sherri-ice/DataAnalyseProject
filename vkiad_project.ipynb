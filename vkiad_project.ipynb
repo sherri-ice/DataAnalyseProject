{
  "nbformat": 4,
  "nbformat_minor": 0,
  "metadata": {
    "colab": {
      "name": "vkiad_project",
      "provenance": [],
      "include_colab_link": true
    },
    "kernelspec": {
      "name": "python3",
      "display_name": "Python 3"
    },
    "language_info": {
      "name": "python"
    }
  },
  "cells": [
    {
      "cell_type": "markdown",
      "metadata": {
        "id": "view-in-github",
        "colab_type": "text"
      },
      "source": [
        "<a href=\"https://colab.research.google.com/github/sherri-ice/DataAnalyseProject/blob/ml/vkiad_project.ipynb\" target=\"_parent\"><img src=\"https://colab.research.google.com/assets/colab-badge.svg\" alt=\"Open In Colab\"/></a>"
      ]
    },
    {
      "cell_type": "code",
      "metadata": {
        "id": "4S7PCM7TxZD8"
      },
      "source": [
        "import pandas as pd\n",
        "from pandas import Series, DataFrame\n",
        "\n",
        "import numpy as np\n",
        "\n",
        "import matplotlib.pyplot as plt\n",
        "%matplotlib inline\n",
        "\n",
        "from sklearn.linear_model import LinearRegression"
      ],
      "execution_count": 1,
      "outputs": []
    },
    {
      "cell_type": "code",
      "metadata": {
        "id": "aaC6_7tBwgF1",
        "colab": {
          "base_uri": "https://localhost:8080/",
          "height": 1000
        },
        "outputId": "14f62505-5b8e-432c-9e79-1021b2af1390"
      },
      "source": [
        "uri_to_data_frame = \"https://raw.githubusercontent.com/sherri-ice/DataAnalyseProject/main/dataframe.csv\"\n",
        "data_frame =  pd.read_csv(uri_to_data_frame)\n",
        "data_frame"
      ],
      "execution_count": 2,
      "outputs": [
        {
          "output_type": "execute_result",
          "data": {
            "text/html": [
              "<div>\n",
              "<style scoped>\n",
              "    .dataframe tbody tr th:only-of-type {\n",
              "        vertical-align: middle;\n",
              "    }\n",
              "\n",
              "    .dataframe tbody tr th {\n",
              "        vertical-align: top;\n",
              "    }\n",
              "\n",
              "    .dataframe thead th {\n",
              "        text-align: right;\n",
              "    }\n",
              "</style>\n",
              "<table border=\"1\" class=\"dataframe\">\n",
              "  <thead>\n",
              "    <tr style=\"text-align: right;\">\n",
              "      <th></th>\n",
              "      <th>Отметка времени</th>\n",
              "      <th>Ваш пол</th>\n",
              "      <th>Ваш факультет</th>\n",
              "      <th>Ваш средний балл</th>\n",
              "      <th>Сколько времени в среднем в день Вы уделяете учебе (домашние работы, лабораторные)</th>\n",
              "      <th>Ваш знак зодиака</th>\n",
              "      <th>Как часто Вы пьёте алкоголь?</th>\n",
              "      <th>Как часто Вы курите (сигареты/вейп/кальян)?</th>\n",
              "      <th>Как часто Вы пьёте кофе/энергетики?</th>\n",
              "      <th>Работаете ли Вы на данный момент?</th>\n",
              "      <th>Как часто Вы посещаете пары?</th>\n",
              "      <th>Сколько Вы спите в будний день?</th>\n",
              "      <th>Были ли у Вас серьёзные мысли об отчислении?</th>\n",
              "      <th>Были ли у Вас мысли о суициде, была ли депрессия?</th>\n",
              "      <th>Болели ли Вы Covid-19?</th>\n",
              "      <th>Как часто Вы ходите в библиотеку?</th>\n",
              "      <th>Кем Вы себя считаете?</th>\n",
              "      <th>Состоите ли Вы в Студенческом союзе или похожих организациях?</th>\n",
              "      <th>Есть ли у Вас хобби вне университета?</th>\n",
              "      <th>Есть ли у Вас отношения?</th>\n",
              "      <th>Занимаетесь ли Вы спортом?</th>\n",
              "      <th>Вы учитесь на платной или бесплатной основе?</th>\n",
              "      <th>Количество пересдач за всё время обучения</th>\n",
              "      <th>Вы натуральный блондин</th>\n",
              "    </tr>\n",
              "  </thead>\n",
              "  <tbody>\n",
              "    <tr>\n",
              "      <th>0</th>\n",
              "      <td>2021/11/26 12:21:04 PM GMT+3</td>\n",
              "      <td>Предпочитаю не говорить (подаюсь в гугл)</td>\n",
              "      <td>ФПМИ</td>\n",
              "      <td>5.1 - 7.0</td>\n",
              "      <td>Могу посидеть и 3, и 4</td>\n",
              "      <td>Рыбы</td>\n",
              "      <td>Не пью</td>\n",
              "      <td>Не курю</td>\n",
              "      <td>Не пью</td>\n",
              "      <td>Нет</td>\n",
              "      <td>Пропускаю &lt;25% пар в неделю</td>\n",
              "      <td>7-8 часов в сутки</td>\n",
              "      <td>Да</td>\n",
              "      <td>Нет</td>\n",
              "      <td>Да, во время студенчества</td>\n",
              "      <td>Не хожу в библиотеку</td>\n",
              "      <td>Интроверт</td>\n",
              "      <td>Нет</td>\n",
              "      <td>Да</td>\n",
              "      <td>Да</td>\n",
              "      <td>Да, но только на физре</td>\n",
              "      <td>Бесплатно, потерял стипендию</td>\n",
              "      <td>1-5 пересдач</td>\n",
              "      <td>Нет(</td>\n",
              "    </tr>\n",
              "    <tr>\n",
              "      <th>1</th>\n",
              "      <td>2021/11/26 12:21:41 PM GMT+3</td>\n",
              "      <td>Предпочитаю не говорить (подаюсь в гугл)</td>\n",
              "      <td>ФПМИ</td>\n",
              "      <td>5.1 - 7.0</td>\n",
              "      <td>Максимум 2 часа</td>\n",
              "      <td>Дева</td>\n",
              "      <td>Раз в месяц</td>\n",
              "      <td>Не курю</td>\n",
              "      <td>Пью почти каждый день</td>\n",
              "      <td>Нет</td>\n",
              "      <td>Пропускаю &lt;25% пар в неделю</td>\n",
              "      <td>4-6 часов в сутки</td>\n",
              "      <td>Да</td>\n",
              "      <td>Да</td>\n",
              "      <td>Да, во время студенчества</td>\n",
              "      <td>Не хожу в библиотеку</td>\n",
              "      <td>Интроверт</td>\n",
              "      <td>Нет</td>\n",
              "      <td>Да</td>\n",
              "      <td>Да</td>\n",
              "      <td>Да, но только на физре</td>\n",
              "      <td>Платно</td>\n",
              "      <td>1-5 пересдач</td>\n",
              "      <td>Нет(</td>\n",
              "    </tr>\n",
              "    <tr>\n",
              "      <th>2</th>\n",
              "      <td>2021/11/26 12:21:57 PM GMT+3</td>\n",
              "      <td>Мужской</td>\n",
              "      <td>ФПМИ</td>\n",
              "      <td>7.1 - 8.0</td>\n",
              "      <td>Могу посидеть и 3, и 4</td>\n",
              "      <td>Козерог</td>\n",
              "      <td>Не пью</td>\n",
              "      <td>Не курю</td>\n",
              "      <td>Пью реже, чем раз в две недели</td>\n",
              "      <td>Да, по специальности</td>\n",
              "      <td>Хожу на все пары</td>\n",
              "      <td>7-8 часов в сутки</td>\n",
              "      <td>Нет</td>\n",
              "      <td>Нет</td>\n",
              "      <td>Нет, не болел</td>\n",
              "      <td>Не хожу в библиотеку</td>\n",
              "      <td>Интроверт</td>\n",
              "      <td>Нет</td>\n",
              "      <td>Да</td>\n",
              "      <td>Нет</td>\n",
              "      <td>Да, вне физры</td>\n",
              "      <td>Бесплатно, получаю стипендию</td>\n",
              "      <td>Не пересдавал(а)</td>\n",
              "      <td>Нет(</td>\n",
              "    </tr>\n",
              "    <tr>\n",
              "      <th>3</th>\n",
              "      <td>2021/11/26 12:22:31 PM GMT+3</td>\n",
              "      <td>Женский</td>\n",
              "      <td>ФПМИ</td>\n",
              "      <td>5.1 - 7.0</td>\n",
              "      <td>Могу посидеть и 3, и 4</td>\n",
              "      <td>Весы</td>\n",
              "      <td>Раз в месяц</td>\n",
              "      <td>Не курю</td>\n",
              "      <td>Пью 1-3 раза в неделю</td>\n",
              "      <td>Нет</td>\n",
              "      <td>Хожу на все пары</td>\n",
              "      <td>7-8 часов в сутки</td>\n",
              "      <td>Да</td>\n",
              "      <td>Да</td>\n",
              "      <td>Нет, не болел</td>\n",
              "      <td>Редко, 1-2 раза в месяц</td>\n",
              "      <td>Амбиверт</td>\n",
              "      <td>Нет</td>\n",
              "      <td>Да</td>\n",
              "      <td>Нет</td>\n",
              "      <td>Да, но только на физре</td>\n",
              "      <td>Бесплатно, получаю стипендию</td>\n",
              "      <td>Не пересдавал(а)</td>\n",
              "      <td>Да, на всю страну такой один</td>\n",
              "    </tr>\n",
              "    <tr>\n",
              "      <th>4</th>\n",
              "      <td>2021/11/26 12:22:53 PM GMT+3</td>\n",
              "      <td>Мужской</td>\n",
              "      <td>ФПМИ</td>\n",
              "      <td>8.1 - 9.0</td>\n",
              "      <td>Ботаю ол дэй лонг</td>\n",
              "      <td>Овен</td>\n",
              "      <td>Раз в неделю</td>\n",
              "      <td>Реже, чем раз в день</td>\n",
              "      <td>Пью реже, чем раз в две недели</td>\n",
              "      <td>Да, по специальности</td>\n",
              "      <td>Пропускаю &gt;70% пар в неделю</td>\n",
              "      <td>7-8 часов в сутки</td>\n",
              "      <td>Нет</td>\n",
              "      <td>Нет</td>\n",
              "      <td>Нет, не болел</td>\n",
              "      <td>Не хожу в библиотеку</td>\n",
              "      <td>Экстраверт</td>\n",
              "      <td>Нет</td>\n",
              "      <td>Да</td>\n",
              "      <td>Да</td>\n",
              "      <td>Да, вне физры</td>\n",
              "      <td>Бесплатно, получаю стипендию</td>\n",
              "      <td>Не пересдавал(а)</td>\n",
              "      <td>Нет(</td>\n",
              "    </tr>\n",
              "    <tr>\n",
              "      <th>...</th>\n",
              "      <td>...</td>\n",
              "      <td>...</td>\n",
              "      <td>...</td>\n",
              "      <td>...</td>\n",
              "      <td>...</td>\n",
              "      <td>...</td>\n",
              "      <td>...</td>\n",
              "      <td>...</td>\n",
              "      <td>...</td>\n",
              "      <td>...</td>\n",
              "      <td>...</td>\n",
              "      <td>...</td>\n",
              "      <td>...</td>\n",
              "      <td>...</td>\n",
              "      <td>...</td>\n",
              "      <td>...</td>\n",
              "      <td>...</td>\n",
              "      <td>...</td>\n",
              "      <td>...</td>\n",
              "      <td>...</td>\n",
              "      <td>...</td>\n",
              "      <td>...</td>\n",
              "      <td>...</td>\n",
              "      <td>...</td>\n",
              "    </tr>\n",
              "    <tr>\n",
              "      <th>229</th>\n",
              "      <td>2021/12/05 12:48:57 AM GMT+3</td>\n",
              "      <td>Мужской</td>\n",
              "      <td>ММФ</td>\n",
              "      <td>7.1 - 8.0</td>\n",
              "      <td>Ботаю ол дэй лонг</td>\n",
              "      <td>Лев</td>\n",
              "      <td>Раз в месяц</td>\n",
              "      <td>Больше, чем 3 раза в день</td>\n",
              "      <td>Пью реже, чем раз в две недели</td>\n",
              "      <td>Нет</td>\n",
              "      <td>Пропускаю &lt;50% пар в неделю</td>\n",
              "      <td>4-6 часов в сутки</td>\n",
              "      <td>Да</td>\n",
              "      <td>Да</td>\n",
              "      <td>Да, во время студенчества</td>\n",
              "      <td>Не хожу в библиотеку</td>\n",
              "      <td>Экстраверт</td>\n",
              "      <td>Да</td>\n",
              "      <td>Да</td>\n",
              "      <td>Да</td>\n",
              "      <td>Да, но только на физре</td>\n",
              "      <td>Бесплатно, получаю стипендию</td>\n",
              "      <td>Не пересдавал(а)</td>\n",
              "      <td>Нет(</td>\n",
              "    </tr>\n",
              "    <tr>\n",
              "      <th>230</th>\n",
              "      <td>2021/12/05 1:45:07 PM GMT+3</td>\n",
              "      <td>Женский</td>\n",
              "      <td>ММФ</td>\n",
              "      <td>7.1 - 8.0</td>\n",
              "      <td>Могу посидеть и 3, и 4</td>\n",
              "      <td>Овен</td>\n",
              "      <td>Не пью</td>\n",
              "      <td>Больше, чем 3 раза в день</td>\n",
              "      <td>Пью почти каждый день</td>\n",
              "      <td>Да, не по специальности</td>\n",
              "      <td>Пропускаю &lt;25% пар в неделю</td>\n",
              "      <td>4-6 часов в сутки</td>\n",
              "      <td>Нет</td>\n",
              "      <td>Да</td>\n",
              "      <td>Да, до поступления</td>\n",
              "      <td>Не хожу в библиотеку</td>\n",
              "      <td>Амбиверт</td>\n",
              "      <td>Нет</td>\n",
              "      <td>Да</td>\n",
              "      <td>Да</td>\n",
              "      <td>Да, вне физры</td>\n",
              "      <td>Бесплатно, получаю стипендию</td>\n",
              "      <td>Не пересдавал(а)</td>\n",
              "      <td>Нет(</td>\n",
              "    </tr>\n",
              "    <tr>\n",
              "      <th>231</th>\n",
              "      <td>2021/12/05 8:54:15 PM GMT+3</td>\n",
              "      <td>Женский</td>\n",
              "      <td>ММФ</td>\n",
              "      <td>8.1 - 9.0</td>\n",
              "      <td>Максимум 2 часа</td>\n",
              "      <td>Скорпион</td>\n",
              "      <td>Раз в месяц</td>\n",
              "      <td>Не курю</td>\n",
              "      <td>Пью почти каждый день</td>\n",
              "      <td>Да, не по специальности</td>\n",
              "      <td>Хожу на все пары</td>\n",
              "      <td>7-8 часов в сутки</td>\n",
              "      <td>Да</td>\n",
              "      <td>Да</td>\n",
              "      <td>Нет, не болел</td>\n",
              "      <td>Не хожу в библиотеку</td>\n",
              "      <td>Амбиверт</td>\n",
              "      <td>Нет</td>\n",
              "      <td>Да</td>\n",
              "      <td>Нет</td>\n",
              "      <td>Да, но только на физре</td>\n",
              "      <td>Бесплатно, получаю стипендию</td>\n",
              "      <td>Не пересдавал(а)</td>\n",
              "      <td>Нет(</td>\n",
              "    </tr>\n",
              "    <tr>\n",
              "      <th>232</th>\n",
              "      <td>2021/12/06 3:36:11 AM GMT+3</td>\n",
              "      <td>Мужской</td>\n",
              "      <td>ММФ</td>\n",
              "      <td>5.1 - 7.0</td>\n",
              "      <td>Максимум 2 часа</td>\n",
              "      <td>Козерог</td>\n",
              "      <td>Раз в неделю</td>\n",
              "      <td>Реже, чем раз в день</td>\n",
              "      <td>Пью почти каждый день</td>\n",
              "      <td>Да, не по специальности</td>\n",
              "      <td>Пропускаю &lt;50% пар в неделю</td>\n",
              "      <td>4-6 часов в сутки</td>\n",
              "      <td>Да</td>\n",
              "      <td>Нет</td>\n",
              "      <td>Да, во время студенчества</td>\n",
              "      <td>Не хожу в библиотеку</td>\n",
              "      <td>Интроверт</td>\n",
              "      <td>Да</td>\n",
              "      <td>Да</td>\n",
              "      <td>Да</td>\n",
              "      <td>Нет</td>\n",
              "      <td>Бесплатно, потерял стипендию</td>\n",
              "      <td>Больше 5 пересдач</td>\n",
              "      <td>Нет(</td>\n",
              "    </tr>\n",
              "    <tr>\n",
              "      <th>233</th>\n",
              "      <td>2021/12/06 8:19:00 AM GMT+3</td>\n",
              "      <td>Женский</td>\n",
              "      <td>ММФ</td>\n",
              "      <td>8.1 - 9.0</td>\n",
              "      <td>Могу посидеть и 3, и 4</td>\n",
              "      <td>Козерог</td>\n",
              "      <td>Раз в месяц</td>\n",
              "      <td>Не курю</td>\n",
              "      <td>Пью 1-3 раза в неделю</td>\n",
              "      <td>Нет</td>\n",
              "      <td>Хожу на все пары</td>\n",
              "      <td>7-8 часов в сутки</td>\n",
              "      <td>Нет</td>\n",
              "      <td>Нет</td>\n",
              "      <td>Нет, не болел</td>\n",
              "      <td>Редко, 1-2 раза в месяц</td>\n",
              "      <td>Интроверт</td>\n",
              "      <td>Нет</td>\n",
              "      <td>Нет</td>\n",
              "      <td>Нет</td>\n",
              "      <td>Да, но только на физре</td>\n",
              "      <td>Бесплатно, получаю стипендию</td>\n",
              "      <td>Не пересдавал(а)</td>\n",
              "      <td>Нет(</td>\n",
              "    </tr>\n",
              "  </tbody>\n",
              "</table>\n",
              "<p>234 rows × 24 columns</p>\n",
              "</div>"
            ],
            "text/plain": [
              "                  Отметка времени  ...        Вы натуральный блондин\n",
              "0    2021/11/26 12:21:04 PM GMT+3  ...                          Нет(\n",
              "1    2021/11/26 12:21:41 PM GMT+3  ...                          Нет(\n",
              "2    2021/11/26 12:21:57 PM GMT+3  ...                          Нет(\n",
              "3    2021/11/26 12:22:31 PM GMT+3  ...  Да, на всю страну такой один\n",
              "4    2021/11/26 12:22:53 PM GMT+3  ...                          Нет(\n",
              "..                            ...  ...                           ...\n",
              "229  2021/12/05 12:48:57 AM GMT+3  ...                          Нет(\n",
              "230   2021/12/05 1:45:07 PM GMT+3  ...                          Нет(\n",
              "231   2021/12/05 8:54:15 PM GMT+3  ...                          Нет(\n",
              "232   2021/12/06 3:36:11 AM GMT+3  ...                          Нет(\n",
              "233   2021/12/06 8:19:00 AM GMT+3  ...                          Нет(\n",
              "\n",
              "[234 rows x 24 columns]"
            ]
          },
          "metadata": {},
          "execution_count": 2
        }
      ]
    },
    {
      "cell_type": "markdown",
      "metadata": {
        "id": "SykXzDbs66KT"
      },
      "source": [
        "#Чистим датасет"
      ]
    },
    {
      "cell_type": "markdown",
      "metadata": {
        "id": "UN99D_wJ7C7Q"
      },
      "source": [
        "Переименуем колонки для более компактного кода"
      ]
    },
    {
      "cell_type": "code",
      "metadata": {
        "id": "t9Wsfk4gxeQl"
      },
      "source": [
        "data_frame.rename(columns = {'Отметка времени':'time', \\\n",
        "                             'Ваш пол':'gender', \\\n",
        "                             'Ваш факультет': 'faculty',\\\n",
        "                             'Ваш средний балл': 'average_grade',\n",
        "                             'Сколько времени в среднем в день Вы уделяете учебе (домашние работы, лабораторные)':'study_time',\\\n",
        "                             'Ваш знак зодиака': 'zodiac_sign',\\\n",
        "                             'Как часто Вы пьёте алкоголь?': 'alcohol',\\\n",
        "                             'Как часто Вы курите (сигареты/вейп/кальян)?': 'smoke',\\\n",
        "                             'Как часто Вы пьёте кофе/энергетики?': 'coffee',\\\n",
        "                             'Работаете ли Вы на данный момент?': 'work', \\\n",
        "                             'Как часто Вы посещаете пары?': 'attendance', \\\n",
        "                             'Сколько Вы спите в будний день?': 'sleep',\\\n",
        "                             'Были ли у Вас серьёзные мысли об отчислении?':'expulsion', \\\n",
        "                             'Были ли у Вас мысли о суициде, была ли депрессия?': 'depression',\n",
        "                             'Болели ли Вы Covid-19?': 'covid19',\n",
        "                             'Как часто Вы ходите в библиотеку?': 'library_attendance',\\\n",
        "                             'Кем Вы себя считаете?': 'person_type', \\\n",
        "                             'Состоите ли Вы в Студенческом союзе или похожих организациях?': 'student_union', \\\n",
        "                             'Есть ли у Вас хобби вне университета?': 'hobby',\\\n",
        "                             'Есть ли у Вас отношения?': 'relationship',\\\n",
        "                             'Занимаетесь ли Вы спортом?': 'sport',\\\n",
        "                             'Вы учитесь на платной или бесплатной основе?': 'education_type', \\\n",
        "                             'Количество пересдач за всё время обучения': 'failed_exams',\n",
        "                             'Вы натуральный блондин': 'blond'},\\\n",
        "                             inplace=True)\n"
      ],
      "execution_count": 3,
      "outputs": []
    },
    {
      "cell_type": "markdown",
      "metadata": {
        "id": "ZxXsv3jq7KSv"
      },
      "source": [
        "Удалим столбец с временем заполнения формы, он нас не интересует:"
      ]
    },
    {
      "cell_type": "code",
      "metadata": {
        "id": "K6mJeCTv7JL2"
      },
      "source": [
        "data_frame = data_frame.drop('time', axis = 1)"
      ],
      "execution_count": 4,
      "outputs": []
    },
    {
      "cell_type": "markdown",
      "metadata": {
        "id": "XnhrH1oRFKPC"
      },
      "source": [
        "В некотрых столбцах заменим данные типа Да/Нет на True/False:"
      ]
    },
    {
      "cell_type": "code",
      "metadata": {
        "id": "JY10Uas47WfE"
      },
      "source": [
        "true_false_categories = ['covid19', 'work', 'sport', 'coffee', 'smoke', 'alcohol', \n",
        "                        'failed_exams', 'expulsion', 'depression', 'library_attendance', \n",
        "                        'student_union', 'relationship', 'hobby', 'blond']\n",
        "data_frame[true_false_categories] = data_frame[true_false_categories].replace(['Да, во время студенчества',\n",
        "                                                                               'Да, до поступления', 'Да',\n",
        "                                                                               'Да, на всю страну такой один', \n",
        "                                                                               'Да, по специальности', \n",
        "                                                                               'Да, не по специальности',\n",
        "                                                                               'Пью почти каждый день',\n",
        "                                                                               'Реже, чем раз в день',\n",
        "                                                                               '2-3 раза в день',\n",
        "                                                                               'Раз в неделю',\n",
        "                                                                               'Чаще, чем раз в неделю',\n",
        "                                                                               'Да, вне физры',\n",
        "                                                                               'Очень часто, 2-3 раза в неделю',\n",
        "                                                                                                                                   'Часто, 1-2 раза в неделю',\n",
        "                                                                                                                                   '1-5 пересдач',\n",
        "                                                                                                                                   'Больше 5 пересдач',\n",
        "                                                                                                                                   'Да, но только на физре',\n",
        "                                                                                                                                   'Больше, чем 3 раза в день',\n",
        "                                                                                                                                   'Пью 1-3 раза в неделю'], True)\n",
        "data_frame[true_false_categories] = data_frame[true_false_categories].replace(['Нет, не болел', \n",
        "                                                                               'Нет', \n",
        "                                                                                                                           'Нет(',\n",
        "                                                                                                                           'Не пересдавал(а)',\n",
        "                                                                                                                           'Не пью',\n",
        "                                                                                                                           'Редко, 1-2 раза в месяц',\n",
        "                                                                                                                           'Не хожу в библиотеку',                                                                                                                           'Не курю',\n",
        "                                                                                                                           'Раз в месяц',\n",
        "                                                                                                                           'Только если выпиваю',\n",
        "                                                                                                                           'Пью реже, чем раз в две недели'], False)"
      ],
      "execution_count": 5,
      "outputs": []
    },
    {
      "cell_type": "code",
      "source": [
        "data_frame['attendance'] = data_frame['attendance'].replace({'Пропускаю <25% пар в неделю': 0.25,\n",
        "                                                            'Хожу на все пары': 0,\n",
        "                                                             'Пропускаю <50% пар в неделю': 0.5,\n",
        "                                                             'Пропускаю >70% пар в неделю': 1})\n",
        "\n",
        "data_frame['sleep'] = data_frame['sleep'].replace({'4-6 часов в сутки': 5,\n",
        "                                                  '7-8 часов в сутки': 7.5,\n",
        "                                                  '2-3 часа в сутки': 2.5})\n",
        "\n",
        "data_frame['study_time'] = data_frame['study_time'].replace({'0 часов 0 минут 0 секунд': 0,\n",
        "                                                             'Максимум 2 часа': 2,\n",
        "                                                             'Могу посидеть и 3, и 4': 4,\n",
        "                                                             'Ботаю ол дэй лонг': 10})"
      ],
      "metadata": {
        "id": "N81S_Zo_lDUq"
      },
      "execution_count": 6,
      "outputs": []
    },
    {
      "cell_type": "markdown",
      "metadata": {
        "id": "sfBeMUAWwqQl"
      },
      "source": [
        "В колонке `gender` помимо вариантов ответа \"мужской\", \"женский\", мы получили несколько неопределенных вариантов, которые для нас равносильны `Nan`. Просто выкинуть их из датасета мы не можем, так как нам важна остальная информация в этих строчках."
      ]
    },
    {
      "cell_type": "code",
      "metadata": {
        "colab": {
          "base_uri": "https://localhost:8080/"
        },
        "id": "3bg5I8AoxdxA",
        "outputId": "608b714e-ee1d-4e7a-85e7-6cac10526602"
      },
      "source": [
        "data_frame.gender"
      ],
      "execution_count": 7,
      "outputs": [
        {
          "output_type": "execute_result",
          "data": {
            "text/plain": [
              "0      Предпочитаю не говорить (подаюсь в гугл)\n",
              "1      Предпочитаю не говорить (подаюсь в гугл)\n",
              "2                                       Мужской\n",
              "3                                       Женский\n",
              "4                                       Мужской\n",
              "                         ...                   \n",
              "229                                     Мужской\n",
              "230                                     Женский\n",
              "231                                     Женский\n",
              "232                                     Мужской\n",
              "233                                     Женский\n",
              "Name: gender, Length: 234, dtype: object"
            ]
          },
          "metadata": {},
          "execution_count": 7
        }
      ]
    },
    {
      "cell_type": "markdown",
      "metadata": {
        "id": "zrLmh6_HxgJb"
      },
      "source": [
        "Так как корректных данных в колонке гораздо больше, мы решили невалидные данные заменить в том же процентном отношении, в котором сейчас находятся ответы Мужской / Женский."
      ]
    },
    {
      "cell_type": "code",
      "metadata": {
        "id": "tuO2VapIZulw"
      },
      "source": [
        "data_frame['gender'].replace(['Мужской'], 'm', inplace = True)\n",
        "data_frame['gender'].replace(['Женский'], 'f', inplace = True)\n",
        "gender = data_frame.loc[:, 'gender']\n",
        "gender = DataFrame(gender.value_counts())\n",
        "\n",
        "num_of_men = gender.loc['m']\n",
        "num_of_women = gender.loc['f']\n",
        "percent_of_men = num_of_men / (num_of_women + num_of_men)\n",
        "num_of_men = int(gender.loc['Предпочитаю не говорить (подаюсь в гугл)'] * percent_of_men) \n",
        "num_of_women = int(gender.loc['Предпочитаю не говорить (подаюсь в гугл)'] - num_of_men)"
      ],
      "execution_count": 8,
      "outputs": []
    },
    {
      "cell_type": "code",
      "metadata": {
        "colab": {
          "base_uri": "https://localhost:8080/"
        },
        "id": "qtqSoMLIyF-b",
        "outputId": "8f27c094-3c96-4bf7-d8e7-754f8396c39c"
      },
      "source": [
        "data_frame.gender.replace(['Предпочитаю не говорить (подаюсь в гугл)'], np.nan, inplace = True)\n",
        "print('Уникальные поля до замены ', data_frame.gender.unique())\n",
        "data_frame.gender.fillna('m', limit = num_of_men, inplace = True)\n",
        "print('Уникальные поля после замены части Nan-ов ', data_frame.gender.unique())\n",
        "data_frame.gender.fillna('f', limit = num_of_women, inplace = True)\n",
        "print('Уникальные поля после замены всех некорректных данных ', data_frame.gender.unique())"
      ],
      "execution_count": 9,
      "outputs": [
        {
          "output_type": "stream",
          "name": "stdout",
          "text": [
            "Уникальные поля до замены  [nan 'm' 'f']\n",
            "Уникальные поля после замены части Nan-ов  ['m' 'f' nan]\n",
            "Уникальные поля после замены всех некорректных данных  ['m' 'f']\n"
          ]
        }
      ]
    },
    {
      "cell_type": "markdown",
      "metadata": {
        "id": "JsxzQwZ-GZJa"
      },
      "source": [
        "Рассмотри колонку `faculty`. Из графика видно, что получилось неоднородная выборка по факультетам университета. Поэтому в дальнейшем учитывать принадлежность к факультету мы не будем."
      ]
    },
    {
      "cell_type": "code",
      "metadata": {
        "id": "-PFS5z4H5bLo",
        "colab": {
          "base_uri": "https://localhost:8080/",
          "height": 340
        },
        "outputId": "6e1d1229-0dde-46c4-e52a-27964d001fbd"
      },
      "source": [
        "plt.figure(figsize=(16, 5))\n",
        "unique_faculty = data_frame.faculty.value_counts()\n",
        "plt.xticks(np.arange(unique_faculty.index.size), unique_faculty.index)\n",
        "plt.bar(range(data_frame.faculty.unique().size), data_frame.faculty.value_counts())"
      ],
      "execution_count": 10,
      "outputs": [
        {
          "output_type": "execute_result",
          "data": {
            "text/plain": [
              "<BarContainer object of 15 artists>"
            ]
          },
          "metadata": {},
          "execution_count": 10
        },
        {
          "output_type": "display_data",
          "data": {
            "image/png": "[encoded data removed]",
            "text/plain": [
              "<Figure size 1152x360 with 1 Axes>"
            ]
          },
          "metadata": {
            "needs_background": "light"
          }
        }
      ]
    },
    {
      "cell_type": "code",
      "metadata": {
        "id": "j9-Nz8uL5ANh",
        "colab": {
          "base_uri": "https://localhost:8080/",
          "height": 756
        },
        "outputId": "28ad2ec9-9bc3-427f-bbcf-368db89962db"
      },
      "source": [
        "data_frame"
      ],
      "execution_count": 11,
      "outputs": [
        {
          "output_type": "execute_result",
          "data": {
            "text/html": [
              "<div>\n",
              "<style scoped>\n",
              "    .dataframe tbody tr th:only-of-type {\n",
              "        vertical-align: middle;\n",
              "    }\n",
              "\n",
              "    .dataframe tbody tr th {\n",
              "        vertical-align: top;\n",
              "    }\n",
              "\n",
              "    .dataframe thead th {\n",
              "        text-align: right;\n",
              "    }\n",
              "</style>\n",
              "<table border=\"1\" class=\"dataframe\">\n",
              "  <thead>\n",
              "    <tr style=\"text-align: right;\">\n",
              "      <th></th>\n",
              "      <th>gender</th>\n",
              "      <th>faculty</th>\n",
              "      <th>average_grade</th>\n",
              "      <th>study_time</th>\n",
              "      <th>zodiac_sign</th>\n",
              "      <th>alcohol</th>\n",
              "      <th>smoke</th>\n",
              "      <th>coffee</th>\n",
              "      <th>work</th>\n",
              "      <th>attendance</th>\n",
              "      <th>sleep</th>\n",
              "      <th>expulsion</th>\n",
              "      <th>depression</th>\n",
              "      <th>covid19</th>\n",
              "      <th>library_attendance</th>\n",
              "      <th>person_type</th>\n",
              "      <th>student_union</th>\n",
              "      <th>hobby</th>\n",
              "      <th>relationship</th>\n",
              "      <th>sport</th>\n",
              "      <th>education_type</th>\n",
              "      <th>failed_exams</th>\n",
              "      <th>blond</th>\n",
              "    </tr>\n",
              "  </thead>\n",
              "  <tbody>\n",
              "    <tr>\n",
              "      <th>0</th>\n",
              "      <td>m</td>\n",
              "      <td>ФПМИ</td>\n",
              "      <td>5.1 - 7.0</td>\n",
              "      <td>4</td>\n",
              "      <td>Рыбы</td>\n",
              "      <td>False</td>\n",
              "      <td>False</td>\n",
              "      <td>False</td>\n",
              "      <td>False</td>\n",
              "      <td>0.25</td>\n",
              "      <td>7.5</td>\n",
              "      <td>True</td>\n",
              "      <td>False</td>\n",
              "      <td>True</td>\n",
              "      <td>False</td>\n",
              "      <td>Интроверт</td>\n",
              "      <td>False</td>\n",
              "      <td>True</td>\n",
              "      <td>True</td>\n",
              "      <td>True</td>\n",
              "      <td>Бесплатно, потерял стипендию</td>\n",
              "      <td>True</td>\n",
              "      <td>False</td>\n",
              "    </tr>\n",
              "    <tr>\n",
              "      <th>1</th>\n",
              "      <td>m</td>\n",
              "      <td>ФПМИ</td>\n",
              "      <td>5.1 - 7.0</td>\n",
              "      <td>2</td>\n",
              "      <td>Дева</td>\n",
              "      <td>False</td>\n",
              "      <td>False</td>\n",
              "      <td>True</td>\n",
              "      <td>False</td>\n",
              "      <td>0.25</td>\n",
              "      <td>5.0</td>\n",
              "      <td>True</td>\n",
              "      <td>True</td>\n",
              "      <td>True</td>\n",
              "      <td>False</td>\n",
              "      <td>Интроверт</td>\n",
              "      <td>False</td>\n",
              "      <td>True</td>\n",
              "      <td>True</td>\n",
              "      <td>True</td>\n",
              "      <td>Платно</td>\n",
              "      <td>True</td>\n",
              "      <td>False</td>\n",
              "    </tr>\n",
              "    <tr>\n",
              "      <th>2</th>\n",
              "      <td>m</td>\n",
              "      <td>ФПМИ</td>\n",
              "      <td>7.1 - 8.0</td>\n",
              "      <td>4</td>\n",
              "      <td>Козерог</td>\n",
              "      <td>False</td>\n",
              "      <td>False</td>\n",
              "      <td>False</td>\n",
              "      <td>True</td>\n",
              "      <td>0.00</td>\n",
              "      <td>7.5</td>\n",
              "      <td>False</td>\n",
              "      <td>False</td>\n",
              "      <td>False</td>\n",
              "      <td>False</td>\n",
              "      <td>Интроверт</td>\n",
              "      <td>False</td>\n",
              "      <td>True</td>\n",
              "      <td>False</td>\n",
              "      <td>True</td>\n",
              "      <td>Бесплатно, получаю стипендию</td>\n",
              "      <td>False</td>\n",
              "      <td>False</td>\n",
              "    </tr>\n",
              "    <tr>\n",
              "      <th>3</th>\n",
              "      <td>f</td>\n",
              "      <td>ФПМИ</td>\n",
              "      <td>5.1 - 7.0</td>\n",
              "      <td>4</td>\n",
              "      <td>Весы</td>\n",
              "      <td>False</td>\n",
              "      <td>False</td>\n",
              "      <td>True</td>\n",
              "      <td>False</td>\n",
              "      <td>0.00</td>\n",
              "      <td>7.5</td>\n",
              "      <td>True</td>\n",
              "      <td>True</td>\n",
              "      <td>False</td>\n",
              "      <td>False</td>\n",
              "      <td>Амбиверт</td>\n",
              "      <td>False</td>\n",
              "      <td>True</td>\n",
              "      <td>False</td>\n",
              "      <td>True</td>\n",
              "      <td>Бесплатно, получаю стипендию</td>\n",
              "      <td>False</td>\n",
              "      <td>True</td>\n",
              "    </tr>\n",
              "    <tr>\n",
              "      <th>4</th>\n",
              "      <td>m</td>\n",
              "      <td>ФПМИ</td>\n",
              "      <td>8.1 - 9.0</td>\n",
              "      <td>10</td>\n",
              "      <td>Овен</td>\n",
              "      <td>True</td>\n",
              "      <td>True</td>\n",
              "      <td>False</td>\n",
              "      <td>True</td>\n",
              "      <td>1.00</td>\n",
              "      <td>7.5</td>\n",
              "      <td>False</td>\n",
              "      <td>False</td>\n",
              "      <td>False</td>\n",
              "      <td>False</td>\n",
              "      <td>Экстраверт</td>\n",
              "      <td>False</td>\n",
              "      <td>True</td>\n",
              "      <td>True</td>\n",
              "      <td>True</td>\n",
              "      <td>Бесплатно, получаю стипендию</td>\n",
              "      <td>False</td>\n",
              "      <td>False</td>\n",
              "    </tr>\n",
              "    <tr>\n",
              "      <th>...</th>\n",
              "      <td>...</td>\n",
              "      <td>...</td>\n",
              "      <td>...</td>\n",
              "      <td>...</td>\n",
              "      <td>...</td>\n",
              "      <td>...</td>\n",
              "      <td>...</td>\n",
              "      <td>...</td>\n",
              "      <td>...</td>\n",
              "      <td>...</td>\n",
              "      <td>...</td>\n",
              "      <td>...</td>\n",
              "      <td>...</td>\n",
              "      <td>...</td>\n",
              "      <td>...</td>\n",
              "      <td>...</td>\n",
              "      <td>...</td>\n",
              "      <td>...</td>\n",
              "      <td>...</td>\n",
              "      <td>...</td>\n",
              "      <td>...</td>\n",
              "      <td>...</td>\n",
              "      <td>...</td>\n",
              "    </tr>\n",
              "    <tr>\n",
              "      <th>229</th>\n",
              "      <td>m</td>\n",
              "      <td>ММФ</td>\n",
              "      <td>7.1 - 8.0</td>\n",
              "      <td>10</td>\n",
              "      <td>Лев</td>\n",
              "      <td>False</td>\n",
              "      <td>True</td>\n",
              "      <td>False</td>\n",
              "      <td>False</td>\n",
              "      <td>0.50</td>\n",
              "      <td>5.0</td>\n",
              "      <td>True</td>\n",
              "      <td>True</td>\n",
              "      <td>True</td>\n",
              "      <td>False</td>\n",
              "      <td>Экстраверт</td>\n",
              "      <td>True</td>\n",
              "      <td>True</td>\n",
              "      <td>True</td>\n",
              "      <td>True</td>\n",
              "      <td>Бесплатно, получаю стипендию</td>\n",
              "      <td>False</td>\n",
              "      <td>False</td>\n",
              "    </tr>\n",
              "    <tr>\n",
              "      <th>230</th>\n",
              "      <td>f</td>\n",
              "      <td>ММФ</td>\n",
              "      <td>7.1 - 8.0</td>\n",
              "      <td>4</td>\n",
              "      <td>Овен</td>\n",
              "      <td>False</td>\n",
              "      <td>True</td>\n",
              "      <td>True</td>\n",
              "      <td>True</td>\n",
              "      <td>0.25</td>\n",
              "      <td>5.0</td>\n",
              "      <td>False</td>\n",
              "      <td>True</td>\n",
              "      <td>True</td>\n",
              "      <td>False</td>\n",
              "      <td>Амбиверт</td>\n",
              "      <td>False</td>\n",
              "      <td>True</td>\n",
              "      <td>True</td>\n",
              "      <td>True</td>\n",
              "      <td>Бесплатно, получаю стипендию</td>\n",
              "      <td>False</td>\n",
              "      <td>False</td>\n",
              "    </tr>\n",
              "    <tr>\n",
              "      <th>231</th>\n",
              "      <td>f</td>\n",
              "      <td>ММФ</td>\n",
              "      <td>8.1 - 9.0</td>\n",
              "      <td>2</td>\n",
              "      <td>Скорпион</td>\n",
              "      <td>False</td>\n",
              "      <td>False</td>\n",
              "      <td>True</td>\n",
              "      <td>True</td>\n",
              "      <td>0.00</td>\n",
              "      <td>7.5</td>\n",
              "      <td>True</td>\n",
              "      <td>True</td>\n",
              "      <td>False</td>\n",
              "      <td>False</td>\n",
              "      <td>Амбиверт</td>\n",
              "      <td>False</td>\n",
              "      <td>True</td>\n",
              "      <td>False</td>\n",
              "      <td>True</td>\n",
              "      <td>Бесплатно, получаю стипендию</td>\n",
              "      <td>False</td>\n",
              "      <td>False</td>\n",
              "    </tr>\n",
              "    <tr>\n",
              "      <th>232</th>\n",
              "      <td>m</td>\n",
              "      <td>ММФ</td>\n",
              "      <td>5.1 - 7.0</td>\n",
              "      <td>2</td>\n",
              "      <td>Козерог</td>\n",
              "      <td>True</td>\n",
              "      <td>True</td>\n",
              "      <td>True</td>\n",
              "      <td>True</td>\n",
              "      <td>0.50</td>\n",
              "      <td>5.0</td>\n",
              "      <td>True</td>\n",
              "      <td>False</td>\n",
              "      <td>True</td>\n",
              "      <td>False</td>\n",
              "      <td>Интроверт</td>\n",
              "      <td>True</td>\n",
              "      <td>True</td>\n",
              "      <td>True</td>\n",
              "      <td>False</td>\n",
              "      <td>Бесплатно, потерял стипендию</td>\n",
              "      <td>True</td>\n",
              "      <td>False</td>\n",
              "    </tr>\n",
              "    <tr>\n",
              "      <th>233</th>\n",
              "      <td>f</td>\n",
              "      <td>ММФ</td>\n",
              "      <td>8.1 - 9.0</td>\n",
              "      <td>4</td>\n",
              "      <td>Козерог</td>\n",
              "      <td>False</td>\n",
              "      <td>False</td>\n",
              "      <td>True</td>\n",
              "      <td>False</td>\n",
              "      <td>0.00</td>\n",
              "      <td>7.5</td>\n",
              "      <td>False</td>\n",
              "      <td>False</td>\n",
              "      <td>False</td>\n",
              "      <td>False</td>\n",
              "      <td>Интроверт</td>\n",
              "      <td>False</td>\n",
              "      <td>False</td>\n",
              "      <td>False</td>\n",
              "      <td>True</td>\n",
              "      <td>Бесплатно, получаю стипендию</td>\n",
              "      <td>False</td>\n",
              "      <td>False</td>\n",
              "    </tr>\n",
              "  </tbody>\n",
              "</table>\n",
              "<p>234 rows × 23 columns</p>\n",
              "</div>"
            ],
            "text/plain": [
              "    gender faculty  ... failed_exams  blond\n",
              "0        m    ФПМИ  ...         True  False\n",
              "1        m    ФПМИ  ...         True  False\n",
              "2        m    ФПМИ  ...        False  False\n",
              "3        f    ФПМИ  ...        False   True\n",
              "4        m    ФПМИ  ...        False  False\n",
              "..     ...     ...  ...          ...    ...\n",
              "229      m     ММФ  ...        False  False\n",
              "230      f     ММФ  ...        False  False\n",
              "231      f     ММФ  ...        False  False\n",
              "232      m     ММФ  ...         True  False\n",
              "233      f     ММФ  ...        False  False\n",
              "\n",
              "[234 rows x 23 columns]"
            ]
          },
          "metadata": {},
          "execution_count": 11
        }
      ]
    },
    {
      "cell_type": "markdown",
      "source": [
        "# ML"
      ],
      "metadata": {
        "id": "xxAuSkos-m8u"
      }
    },
    {
      "cell_type": "markdown",
      "source": [
        "Spoiler: получились довольно странные результаты, кажется, что где-то мы что-то сделали не так :)"
      ],
      "metadata": {
        "id": "tKw0izsklbBE"
      }
    },
    {
      "cell_type": "code",
      "source": [
        "from sklearn.preprocessing import OrdinalEncoder\n",
        "from sklearn.metrics import mean_absolute_error"
      ],
      "metadata": {
        "id": "iHAtbTmXC1U-"
      },
      "execution_count": 12,
      "outputs": []
    },
    {
      "cell_type": "markdown",
      "source": [
        "Так как у нас есть категории, которые никак нельзя привести к виду ответа на вопрос \"Да/Нет\", либо к численному ответу, то надо их как-то закодировать в числа:"
      ],
      "metadata": {
        "id": "j8PGsHi6j5AI"
      }
    },
    {
      "cell_type": "code",
      "source": [
        "names_of_categorical = ['gender', 'zodiac_sign', \n",
        "                         'person_type', 'education_type']\n",
        "\n",
        "categories = {}\n",
        "categories['gender'] = ['m', 'f']\n",
        "categories['zodiac_sign'] = data_frame.zodiac_sign.unique()\n",
        "categories['person_type'] = ['Интроверт', 'Амбиверт', 'Экстраверт']\n",
        "categories['education_type'] = ['Платно', 'Бесплатно, потерял стипендию', 'Бесплатно, получаю стипендию']"
      ],
      "metadata": {
        "id": "G6DJBe8RbKLu"
      },
      "execution_count": 30,
      "outputs": []
    },
    {
      "cell_type": "code",
      "source": [
        "# Off warnings\n",
        "pd.set_option('mode.chained_assignment', None)"
      ],
      "metadata": {
        "id": "_gjCUjEkfQMr"
      },
      "execution_count": 14,
      "outputs": []
    },
    {
      "cell_type": "code",
      "source": [
        "def encode_categories(x, name):\n",
        "  j = 1\n",
        "  for i in categories[name]:\n",
        "    x[name][x[name] == i] = j\n",
        "    j += 1\n",
        "\n",
        "def encode_grades(x, grades):\n",
        "  j = 1\n",
        "  for i in grades:\n",
        "    x[x == i] = j\n",
        "    j += 1"
      ],
      "metadata": {
        "id": "3BxjAo9dfaaR"
      },
      "execution_count": 15,
      "outputs": []
    },
    {
      "cell_type": "markdown",
      "source": [
        "Из исследования выше выяснилось, что факультетов для полноценного анализа оказалось недостаточно, так что не будем анализировать эту колонку:"
      ],
      "metadata": {
        "id": "9Sp9FAIawJ6S"
      }
    },
    {
      "cell_type": "code",
      "source": [
        "x = data_frame.drop(columns = ['average_grade', 'faculty'])\n",
        "for i in names_of_categorical:\n",
        "  encode_categories(x, i)\n",
        "y = data_frame.average_grade\n",
        "grades = np.sort(y.unique())\n",
        "encode_grades(y, grades)"
      ],
      "metadata": {
        "id": "CpmHTezu-q98"
      },
      "execution_count": 16,
      "outputs": []
    },
    {
      "cell_type": "code",
      "source": [
        "# Off warning\n",
        "pd.reset_option(\"mode.chained_assignment\")"
      ],
      "metadata": {
        "id": "OeE-foFVgp4U"
      },
      "execution_count": 17,
      "outputs": []
    },
    {
      "cell_type": "markdown",
      "source": [
        "Т.к. ответы на вопрос о среднем балле представлены в виде интервалов, то будем рассматривать студентов с баллом 4.0 - 5.0 как отстающих студентов, с баллом 5.1 - 7.0 как студентов с плохой успеваемостью, с баллом 7.1 - 8.0 как \"среднячков\", с баллом 8.1 - 9.0 как \"хорошистов\" и с баллом 9.1 - 10.0 как отличников.\n",
        "Тогда возникает задача классификацию, которую можно решить с помощью `RandomForestClassifier`:\n",
        "\n"
      ],
      "metadata": {
        "id": "bKpSUxgzwjzq"
      }
    },
    {
      "cell_type": "code",
      "source": [
        "from sklearn.ensemble import RandomForestClassifier\n",
        "from sklearn.metrics import accuracy_score\n",
        "clf = RandomForestClassifier(n_estimators=50)\n",
        "\n",
        "# Разделяем датасеты для обучения\n",
        "from sklearn.model_selection import train_test_split\n",
        "X_train, X_test, y_train, y_test = train_test_split(x, y, train_size=0.7)\n",
        "\n",
        "from sklearn.preprocessing import StandardScaler\n",
        "sc = StandardScaler()\n",
        "X_train = sc.fit_transform(X_train)\n",
        "X_test = sc.transform(X_test)\n",
        "\n",
        "# Just don't touch this\n",
        "y_train = y_train.astype('float')\n",
        "y_test = y_test.astype('float')\n",
        "\n",
        "# Тренируем модель\n",
        "clf.fit(X_train, y_train)\n",
        "\n",
        "\n",
        "y_pred = clf.predict(X_test)\n",
        "print(accuracy_score(y_pred, y_test))\n",
        "weights = clf.feature_importances_"
      ],
      "metadata": {
        "id": "o66wcrjI920x",
        "outputId": "b157b136-e3f6-4bfe-9fa3-ee873f1a850b",
        "colab": {
          "base_uri": "https://localhost:8080/"
        }
      },
      "execution_count": 22,
      "outputs": [
        {
          "output_type": "stream",
          "name": "stdout",
          "text": [
            "0.4507042253521127\n"
          ]
        }
      ]
    },
    {
      "cell_type": "markdown",
      "source": [
        "К сожалению, точность не такая, как хотелось бы. Наверное, это связано со слабой корреляцией данных признаков. Давайте посмотрим:"
      ],
      "metadata": {
        "id": "EMYC5e1Jx_ms"
      }
    },
    {
      "cell_type": "code",
      "source": [
        "fig, ax = plt.subplots(figsize=(15, 10), subplot_kw=dict(aspect=\"equal\"))\n",
        "\n",
        "labels = data_frame.drop(columns = ['average_grade','faculty']).columns\n",
        "colors = ['#ff9999','#66b3ff','#99ff99','#ffcc99',\n",
        "          '#7e7ef2', '#bf03bf', '#ebc917', '#ffccff',\n",
        "          '#afe8e5', '#729edf', '#bde8af', '#e9895c']\n",
        "\n",
        "plt.bar(np.arange(len(weights)), weights * 100, color=colors)\n",
        "plt.xticks(np.arange(labels.size), labels, rotation=60, ha=\"right\")\n",
        "# Set aspect ratio to be equal so that pie is drawn as a circle.\n",
        "plt.axis('equal')\n",
        "plt.tight_layout()"
      ],
      "metadata": {
        "id": "PANYJvDar8Yt",
        "outputId": "7c03e4a1-ad0d-43d3-d351-d278ea61e87f",
        "colab": {
          "base_uri": "https://localhost:8080/",
          "height": 729
        }
      },
      "execution_count": 24,
      "outputs": [
        {
          "output_type": "display_data",
          "data": {
            "image/png": "[encoded data removed]",
            "text/plain": [
              "<Figure size 1080x720 with 1 Axes>"
            ]
          },
          "metadata": {
            "needs_background": "light"
          }
        }
      ]
    },
    {
      "cell_type": "markdown",
      "source": [
        "Ух ты, неожиданно в топ вылез знак зодиака. Здорово, конечно, но астрология точно никак не вяжется с обучением студентов.\n",
        "Давайте попробуем убрать знак зодиака как признак:"
      ],
      "metadata": {
        "id": "UiZLRqnSyQr1"
      }
    },
    {
      "cell_type": "code",
      "source": [
        "x = data_frame.drop(columns = ['average_grade', 'faculty', 'zodiac_sign'])\n",
        "del categories['zodiac_sign']\n",
        "names_of_categorical.remove('zodiac_sign')\n",
        "for i in names_of_categorical:\n",
        "  encode_categories(x, i)\n",
        "y = data_frame.average_grade\n",
        "grades = np.sort(y.unique())\n",
        "encode_grades(y, grades)"
      ],
      "metadata": {
        "id": "OkKQSD-BynYj",
        "outputId": "d7949761-caff-4098-b9a8-117054dc6f5e",
        "colab": {
          "base_uri": "https://localhost:8080/"
        }
      },
      "execution_count": 31,
      "outputs": [
        {
          "output_type": "stream",
          "name": "stderr",
          "text": [
            "/usr/local/lib/python3.7/dist-packages/ipykernel_launcher.py:4: SettingWithCopyWarning: \n",
            "A value is trying to be set on a copy of a slice from a DataFrame\n",
            "\n",
            "See the caveats in the documentation: https://pandas.pydata.org/pandas-docs/stable/user_guide/indexing.html#returning-a-view-versus-a-copy\n",
            "  after removing the cwd from sys.path.\n",
            "/usr/local/lib/python3.7/dist-packages/ipykernel_launcher.py:10: SettingWithCopyWarning: \n",
            "A value is trying to be set on a copy of a slice from a DataFrame\n",
            "\n",
            "See the caveats in the documentation: https://pandas.pydata.org/pandas-docs/stable/user_guide/indexing.html#returning-a-view-versus-a-copy\n",
            "  # Remove the CWD from sys.path while we load stuff.\n"
          ]
        }
      ]
    },
    {
      "cell_type": "code",
      "source": [
        "from sklearn.ensemble import RandomForestClassifier\n",
        "from sklearn.metrics import accuracy_score\n",
        "clf = RandomForestClassifier(n_estimators=50)\n",
        "\n",
        "# Разделяем датасеты для обучения\n",
        "from sklearn.model_selection import train_test_split\n",
        "X_train, X_test, y_train, y_test = train_test_split(x, y, train_size=0.7)\n",
        "\n",
        "from sklearn.preprocessing import StandardScaler\n",
        "sc = StandardScaler()\n",
        "X_train = sc.fit_transform(X_train)\n",
        "X_test = sc.transform(X_test)\n",
        "\n",
        "# Just don't touch this\n",
        "y_train = y_train.astype('float')\n",
        "y_test = y_test.astype('float')\n",
        "\n",
        "# Тренируем модель\n",
        "clf.fit(X_train, y_train)\n",
        "\n",
        "\n",
        "y_pred = clf.predict(X_test)\n",
        "print(accuracy_score(y_pred, y_test))\n",
        "weights = clf.feature_importances_"
      ],
      "metadata": {
        "id": "N6ngwZlozWos",
        "outputId": "99d1e406-7508-489b-d7d9-5a54ea0e8f8e",
        "colab": {
          "base_uri": "https://localhost:8080/"
        }
      },
      "execution_count": 33,
      "outputs": [
        {
          "output_type": "stream",
          "name": "stdout",
          "text": [
            "0.28169014084507044\n"
          ]
        }
      ]
    },
    {
      "cell_type": "code",
      "source": [
        "fig, ax = plt.subplots(figsize=(15, 10), subplot_kw=dict(aspect=\"equal\"))\n",
        "\n",
        "labels = data_frame.drop(columns = ['average_grade','faculty','zodiac_sign']).columns\n",
        "colors = ['#ff9999','#66b3ff','#99ff99','#ffcc99',\n",
        "          '#7e7ef2', '#bf03bf', '#ebc917', '#ffccff',\n",
        "          '#afe8e5', '#729edf', '#bde8af', '#e9895c']\n",
        "\n",
        "plt.bar(np.arange(len(weights)), weights * 100, color=colors)\n",
        "plt.xticks(np.arange(labels.size), labels, rotation=60, ha=\"right\")\n",
        "# Set aspect ratio to be equal so that pie is drawn as a circle.\n",
        "plt.axis('equal')\n",
        "plt.tight_layout()"
      ],
      "metadata": {
        "id": "Q6hUjnSTzYt1",
        "outputId": "92d88d38-e947-452b-93b3-4a740c1e6a86",
        "colab": {
          "base_uri": "https://localhost:8080/",
          "height": 729
        }
      },
      "execution_count": 34,
      "outputs": [
        {
          "output_type": "display_data",
          "data": {
            "image/png": "[encoded data removed]",
            "text/plain": [
              "<Figure size 1080x720 with 1 Axes>"
            ]
          },
          "metadata": {
            "needs_background": "light"
          }
        }
      ]
    },
    {
      "cell_type": "markdown",
      "source": [
        "Уже больше похоже на правду. Как видно, оценка студента сильнее зависит от времени, затраченного на учебу, и посещаемости (что на самом деле довольно спорно)."
      ],
      "metadata": {
        "id": "m4CBB7-SzijY"
      }
    }
  ]
}
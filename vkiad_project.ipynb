{
  "nbformat": 4,
  "nbformat_minor": 0,
  "metadata": {
    "colab": {
      "name": "vkiad_project",
      "provenance": [],
      "include_colab_link": true
    },
    "kernelspec": {
      "name": "python3",
      "display_name": "Python 3"
    },
    "language_info": {
      "name": "python"
    }
  },
  "cells": [
    {
      "cell_type": "markdown",
      "metadata": {
        "id": "view-in-github",
        "colab_type": "text"
      },
      "source": [
        "<a href=\"https://colab.research.google.com/github/sherri-ice/DataAnalyseProject/blob/motivation_to_study/vkiad_project.ipynb\" target=\"_parent\"><img src=\"https://colab.research.google.com/assets/colab-badge.svg\" alt=\"Open In Colab\"/></a>"
      ]
    },
    {
      "cell_type": "code",
      "metadata": {
        "id": "4S7PCM7TxZD8"
      },
      "source": [
        "import pandas as pd\n",
        "from pandas import Series, DataFrame\n",
        "\n",
        "import numpy as np\n",
        "\n",
        "import matplotlib.pyplot as plt\n",
        "%matplotlib inline"
      ],
      "execution_count": 2,
      "outputs": []
    },
    {
      "cell_type": "code",
      "metadata": {
        "id": "aaC6_7tBwgF1",
        "colab": {
          "base_uri": "https://localhost:8080/",
          "height": 1000
        },
        "outputId": "d01756a8-986f-46f3-ad4b-f84a3e230dbc"
      },
      "source": [
        "uri_to_data_frame = \"https://raw.githubusercontent.com/sherri-ice/DataAnalyseProject/main/dataframe.csv\"\n",
        "data_frame =  pd.read_csv(uri_to_data_frame)\n",
        "data_frame"
      ],
      "execution_count": 3,
      "outputs": [
        {
          "output_type": "execute_result",
          "data": {
            "text/html": [
              "<div>\n",
              "<style scoped>\n",
              "    .dataframe tbody tr th:only-of-type {\n",
              "        vertical-align: middle;\n",
              "    }\n",
              "\n",
              "    .dataframe tbody tr th {\n",
              "        vertical-align: top;\n",
              "    }\n",
              "\n",
              "    .dataframe thead th {\n",
              "        text-align: right;\n",
              "    }\n",
              "</style>\n",
              "<table border=\"1\" class=\"dataframe\">\n",
              "  <thead>\n",
              "    <tr style=\"text-align: right;\">\n",
              "      <th></th>\n",
              "      <th>Отметка времени</th>\n",
              "      <th>Ваш пол</th>\n",
              "      <th>Ваш факультет</th>\n",
              "      <th>Ваш средний балл</th>\n",
              "      <th>Сколько времени в среднем в день Вы уделяете учебе (домашние работы, лабораторные)</th>\n",
              "      <th>Ваш знак зодиака</th>\n",
              "      <th>Как часто Вы пьёте алкоголь?</th>\n",
              "      <th>Как часто Вы курите (сигареты/вейп/кальян)?</th>\n",
              "      <th>Как часто Вы пьёте кофе/энергетики?</th>\n",
              "      <th>Работаете ли Вы на данный момент?</th>\n",
              "      <th>Как часто Вы посещаете пары?</th>\n",
              "      <th>Сколько Вы спите в будний день?</th>\n",
              "      <th>Были ли у Вас серьёзные мысли об отчислении?</th>\n",
              "      <th>Были ли у Вас мысли о суициде, была ли депрессия?</th>\n",
              "      <th>Болели ли Вы Covid-19?</th>\n",
              "      <th>Как часто Вы ходите в библиотеку?</th>\n",
              "      <th>Кем Вы себя считаете?</th>\n",
              "      <th>Состоите ли Вы в Студенческом союзе или похожих организациях?</th>\n",
              "      <th>Есть ли у Вас хобби вне университета?</th>\n",
              "      <th>Есть ли у Вас отношения?</th>\n",
              "      <th>Занимаетесь ли Вы спортом?</th>\n",
              "      <th>Вы учитесь на платной или бесплатной основе?</th>\n",
              "      <th>Количество пересдач за всё время обучения</th>\n",
              "      <th>Вы натуральный блондин</th>\n",
              "    </tr>\n",
              "  </thead>\n",
              "  <tbody>\n",
              "    <tr>\n",
              "      <th>0</th>\n",
              "      <td>2021/11/26 12:21:04 PM GMT+3</td>\n",
              "      <td>Предпочитаю не говорить (подаюсь в гугл)</td>\n",
              "      <td>ФПМИ</td>\n",
              "      <td>5.1 - 7.0</td>\n",
              "      <td>Могу посидеть и 3, и 4</td>\n",
              "      <td>Рыбы</td>\n",
              "      <td>Не пью</td>\n",
              "      <td>Не курю</td>\n",
              "      <td>Не пью</td>\n",
              "      <td>Нет</td>\n",
              "      <td>Пропускаю &lt;25% пар в неделю</td>\n",
              "      <td>7-8 часов в сутки</td>\n",
              "      <td>Да</td>\n",
              "      <td>Нет</td>\n",
              "      <td>Да, во время студенчества</td>\n",
              "      <td>Не хожу в библиотеку</td>\n",
              "      <td>Интроверт</td>\n",
              "      <td>Нет</td>\n",
              "      <td>Да</td>\n",
              "      <td>Да</td>\n",
              "      <td>Да, но только на физре</td>\n",
              "      <td>Бесплатно, потерял стипендию</td>\n",
              "      <td>1-5 пересдач</td>\n",
              "      <td>Нет(</td>\n",
              "    </tr>\n",
              "    <tr>\n",
              "      <th>1</th>\n",
              "      <td>2021/11/26 12:21:41 PM GMT+3</td>\n",
              "      <td>Предпочитаю не говорить (подаюсь в гугл)</td>\n",
              "      <td>ФПМИ</td>\n",
              "      <td>5.1 - 7.0</td>\n",
              "      <td>Максимум 2 часа</td>\n",
              "      <td>Дева</td>\n",
              "      <td>Раз в месяц</td>\n",
              "      <td>Не курю</td>\n",
              "      <td>Пью почти каждый день</td>\n",
              "      <td>Нет</td>\n",
              "      <td>Пропускаю &lt;25% пар в неделю</td>\n",
              "      <td>4-6 часов в сутки</td>\n",
              "      <td>Да</td>\n",
              "      <td>Да</td>\n",
              "      <td>Да, во время студенчества</td>\n",
              "      <td>Не хожу в библиотеку</td>\n",
              "      <td>Интроверт</td>\n",
              "      <td>Нет</td>\n",
              "      <td>Да</td>\n",
              "      <td>Да</td>\n",
              "      <td>Да, но только на физре</td>\n",
              "      <td>Платно</td>\n",
              "      <td>1-5 пересдач</td>\n",
              "      <td>Нет(</td>\n",
              "    </tr>\n",
              "    <tr>\n",
              "      <th>2</th>\n",
              "      <td>2021/11/26 12:21:57 PM GMT+3</td>\n",
              "      <td>Мужской</td>\n",
              "      <td>ФПМИ</td>\n",
              "      <td>7.1 - 8.0</td>\n",
              "      <td>Могу посидеть и 3, и 4</td>\n",
              "      <td>Козерог</td>\n",
              "      <td>Не пью</td>\n",
              "      <td>Не курю</td>\n",
              "      <td>Пью реже, чем раз в две недели</td>\n",
              "      <td>Да, по специальности</td>\n",
              "      <td>Хожу на все пары</td>\n",
              "      <td>7-8 часов в сутки</td>\n",
              "      <td>Нет</td>\n",
              "      <td>Нет</td>\n",
              "      <td>Нет, не болел</td>\n",
              "      <td>Не хожу в библиотеку</td>\n",
              "      <td>Интроверт</td>\n",
              "      <td>Нет</td>\n",
              "      <td>Да</td>\n",
              "      <td>Нет</td>\n",
              "      <td>Да, вне физры</td>\n",
              "      <td>Бесплатно, получаю стипендию</td>\n",
              "      <td>Не пересдавал(а)</td>\n",
              "      <td>Нет(</td>\n",
              "    </tr>\n",
              "    <tr>\n",
              "      <th>3</th>\n",
              "      <td>2021/11/26 12:22:31 PM GMT+3</td>\n",
              "      <td>Женский</td>\n",
              "      <td>ФПМИ</td>\n",
              "      <td>5.1 - 7.0</td>\n",
              "      <td>Могу посидеть и 3, и 4</td>\n",
              "      <td>Весы</td>\n",
              "      <td>Раз в месяц</td>\n",
              "      <td>Не курю</td>\n",
              "      <td>Пью 1-3 раза в неделю</td>\n",
              "      <td>Нет</td>\n",
              "      <td>Хожу на все пары</td>\n",
              "      <td>7-8 часов в сутки</td>\n",
              "      <td>Да</td>\n",
              "      <td>Да</td>\n",
              "      <td>Нет, не болел</td>\n",
              "      <td>Редко, 1-2 раза в месяц</td>\n",
              "      <td>Амбиверт</td>\n",
              "      <td>Нет</td>\n",
              "      <td>Да</td>\n",
              "      <td>Нет</td>\n",
              "      <td>Да, но только на физре</td>\n",
              "      <td>Бесплатно, получаю стипендию</td>\n",
              "      <td>Не пересдавал(а)</td>\n",
              "      <td>Да, на всю страну такой один</td>\n",
              "    </tr>\n",
              "    <tr>\n",
              "      <th>4</th>\n",
              "      <td>2021/11/26 12:22:53 PM GMT+3</td>\n",
              "      <td>Мужской</td>\n",
              "      <td>ФПМИ</td>\n",
              "      <td>8.1 - 9.0</td>\n",
              "      <td>Ботаю ол дэй лонг</td>\n",
              "      <td>Овен</td>\n",
              "      <td>Раз в неделю</td>\n",
              "      <td>Реже, чем раз в день</td>\n",
              "      <td>Пью реже, чем раз в две недели</td>\n",
              "      <td>Да, по специальности</td>\n",
              "      <td>Пропускаю &gt;70% пар в неделю</td>\n",
              "      <td>7-8 часов в сутки</td>\n",
              "      <td>Нет</td>\n",
              "      <td>Нет</td>\n",
              "      <td>Нет, не болел</td>\n",
              "      <td>Не хожу в библиотеку</td>\n",
              "      <td>Экстраверт</td>\n",
              "      <td>Нет</td>\n",
              "      <td>Да</td>\n",
              "      <td>Да</td>\n",
              "      <td>Да, вне физры</td>\n",
              "      <td>Бесплатно, получаю стипендию</td>\n",
              "      <td>Не пересдавал(а)</td>\n",
              "      <td>Нет(</td>\n",
              "    </tr>\n",
              "    <tr>\n",
              "      <th>...</th>\n",
              "      <td>...</td>\n",
              "      <td>...</td>\n",
              "      <td>...</td>\n",
              "      <td>...</td>\n",
              "      <td>...</td>\n",
              "      <td>...</td>\n",
              "      <td>...</td>\n",
              "      <td>...</td>\n",
              "      <td>...</td>\n",
              "      <td>...</td>\n",
              "      <td>...</td>\n",
              "      <td>...</td>\n",
              "      <td>...</td>\n",
              "      <td>...</td>\n",
              "      <td>...</td>\n",
              "      <td>...</td>\n",
              "      <td>...</td>\n",
              "      <td>...</td>\n",
              "      <td>...</td>\n",
              "      <td>...</td>\n",
              "      <td>...</td>\n",
              "      <td>...</td>\n",
              "      <td>...</td>\n",
              "      <td>...</td>\n",
              "    </tr>\n",
              "    <tr>\n",
              "      <th>229</th>\n",
              "      <td>2021/12/05 12:48:57 AM GMT+3</td>\n",
              "      <td>Мужской</td>\n",
              "      <td>ММФ</td>\n",
              "      <td>7.1 - 8.0</td>\n",
              "      <td>Ботаю ол дэй лонг</td>\n",
              "      <td>Лев</td>\n",
              "      <td>Раз в месяц</td>\n",
              "      <td>Больше, чем 3 раза в день</td>\n",
              "      <td>Пью реже, чем раз в две недели</td>\n",
              "      <td>Нет</td>\n",
              "      <td>Пропускаю &lt;50% пар в неделю</td>\n",
              "      <td>4-6 часов в сутки</td>\n",
              "      <td>Да</td>\n",
              "      <td>Да</td>\n",
              "      <td>Да, во время студенчества</td>\n",
              "      <td>Не хожу в библиотеку</td>\n",
              "      <td>Экстраверт</td>\n",
              "      <td>Да</td>\n",
              "      <td>Да</td>\n",
              "      <td>Да</td>\n",
              "      <td>Да, но только на физре</td>\n",
              "      <td>Бесплатно, получаю стипендию</td>\n",
              "      <td>Не пересдавал(а)</td>\n",
              "      <td>Нет(</td>\n",
              "    </tr>\n",
              "    <tr>\n",
              "      <th>230</th>\n",
              "      <td>2021/12/05 1:45:07 PM GMT+3</td>\n",
              "      <td>Женский</td>\n",
              "      <td>ММФ</td>\n",
              "      <td>7.1 - 8.0</td>\n",
              "      <td>Могу посидеть и 3, и 4</td>\n",
              "      <td>Овен</td>\n",
              "      <td>Не пью</td>\n",
              "      <td>Больше, чем 3 раза в день</td>\n",
              "      <td>Пью почти каждый день</td>\n",
              "      <td>Да, не по специальности</td>\n",
              "      <td>Пропускаю &lt;25% пар в неделю</td>\n",
              "      <td>4-6 часов в сутки</td>\n",
              "      <td>Нет</td>\n",
              "      <td>Да</td>\n",
              "      <td>Да, до поступления</td>\n",
              "      <td>Не хожу в библиотеку</td>\n",
              "      <td>Амбиверт</td>\n",
              "      <td>Нет</td>\n",
              "      <td>Да</td>\n",
              "      <td>Да</td>\n",
              "      <td>Да, вне физры</td>\n",
              "      <td>Бесплатно, получаю стипендию</td>\n",
              "      <td>Не пересдавал(а)</td>\n",
              "      <td>Нет(</td>\n",
              "    </tr>\n",
              "    <tr>\n",
              "      <th>231</th>\n",
              "      <td>2021/12/05 8:54:15 PM GMT+3</td>\n",
              "      <td>Женский</td>\n",
              "      <td>ММФ</td>\n",
              "      <td>8.1 - 9.0</td>\n",
              "      <td>Максимум 2 часа</td>\n",
              "      <td>Скорпион</td>\n",
              "      <td>Раз в месяц</td>\n",
              "      <td>Не курю</td>\n",
              "      <td>Пью почти каждый день</td>\n",
              "      <td>Да, не по специальности</td>\n",
              "      <td>Хожу на все пары</td>\n",
              "      <td>7-8 часов в сутки</td>\n",
              "      <td>Да</td>\n",
              "      <td>Да</td>\n",
              "      <td>Нет, не болел</td>\n",
              "      <td>Не хожу в библиотеку</td>\n",
              "      <td>Амбиверт</td>\n",
              "      <td>Нет</td>\n",
              "      <td>Да</td>\n",
              "      <td>Нет</td>\n",
              "      <td>Да, но только на физре</td>\n",
              "      <td>Бесплатно, получаю стипендию</td>\n",
              "      <td>Не пересдавал(а)</td>\n",
              "      <td>Нет(</td>\n",
              "    </tr>\n",
              "    <tr>\n",
              "      <th>232</th>\n",
              "      <td>2021/12/06 3:36:11 AM GMT+3</td>\n",
              "      <td>Мужской</td>\n",
              "      <td>ММФ</td>\n",
              "      <td>5.1 - 7.0</td>\n",
              "      <td>Максимум 2 часа</td>\n",
              "      <td>Козерог</td>\n",
              "      <td>Раз в неделю</td>\n",
              "      <td>Реже, чем раз в день</td>\n",
              "      <td>Пью почти каждый день</td>\n",
              "      <td>Да, не по специальности</td>\n",
              "      <td>Пропускаю &lt;50% пар в неделю</td>\n",
              "      <td>4-6 часов в сутки</td>\n",
              "      <td>Да</td>\n",
              "      <td>Нет</td>\n",
              "      <td>Да, во время студенчества</td>\n",
              "      <td>Не хожу в библиотеку</td>\n",
              "      <td>Интроверт</td>\n",
              "      <td>Да</td>\n",
              "      <td>Да</td>\n",
              "      <td>Да</td>\n",
              "      <td>Нет</td>\n",
              "      <td>Бесплатно, потерял стипендию</td>\n",
              "      <td>Больше 5 пересдач</td>\n",
              "      <td>Нет(</td>\n",
              "    </tr>\n",
              "    <tr>\n",
              "      <th>233</th>\n",
              "      <td>2021/12/06 8:19:00 AM GMT+3</td>\n",
              "      <td>Женский</td>\n",
              "      <td>ММФ</td>\n",
              "      <td>8.1 - 9.0</td>\n",
              "      <td>Могу посидеть и 3, и 4</td>\n",
              "      <td>Козерог</td>\n",
              "      <td>Раз в месяц</td>\n",
              "      <td>Не курю</td>\n",
              "      <td>Пью 1-3 раза в неделю</td>\n",
              "      <td>Нет</td>\n",
              "      <td>Хожу на все пары</td>\n",
              "      <td>7-8 часов в сутки</td>\n",
              "      <td>Нет</td>\n",
              "      <td>Нет</td>\n",
              "      <td>Нет, не болел</td>\n",
              "      <td>Редко, 1-2 раза в месяц</td>\n",
              "      <td>Интроверт</td>\n",
              "      <td>Нет</td>\n",
              "      <td>Нет</td>\n",
              "      <td>Нет</td>\n",
              "      <td>Да, но только на физре</td>\n",
              "      <td>Бесплатно, получаю стипендию</td>\n",
              "      <td>Не пересдавал(а)</td>\n",
              "      <td>Нет(</td>\n",
              "    </tr>\n",
              "  </tbody>\n",
              "</table>\n",
              "<p>234 rows × 24 columns</p>\n",
              "</div>"
            ],
            "text/plain": [
              "                  Отметка времени  ...        Вы натуральный блондин\n",
              "0    2021/11/26 12:21:04 PM GMT+3  ...                          Нет(\n",
              "1    2021/11/26 12:21:41 PM GMT+3  ...                          Нет(\n",
              "2    2021/11/26 12:21:57 PM GMT+3  ...                          Нет(\n",
              "3    2021/11/26 12:22:31 PM GMT+3  ...  Да, на всю страну такой один\n",
              "4    2021/11/26 12:22:53 PM GMT+3  ...                          Нет(\n",
              "..                            ...  ...                           ...\n",
              "229  2021/12/05 12:48:57 AM GMT+3  ...                          Нет(\n",
              "230   2021/12/05 1:45:07 PM GMT+3  ...                          Нет(\n",
              "231   2021/12/05 8:54:15 PM GMT+3  ...                          Нет(\n",
              "232   2021/12/06 3:36:11 AM GMT+3  ...                          Нет(\n",
              "233   2021/12/06 8:19:00 AM GMT+3  ...                          Нет(\n",
              "\n",
              "[234 rows x 24 columns]"
            ]
          },
          "metadata": {},
          "execution_count": 3
        }
      ]
    },
    {
      "cell_type": "markdown",
      "metadata": {
        "id": "SykXzDbs66KT"
      },
      "source": [
        "#Чистим датасет"
      ]
    },
    {
      "cell_type": "markdown",
      "metadata": {
        "id": "UN99D_wJ7C7Q"
      },
      "source": [
        "Переименуем колонки для более компактного кода"
      ]
    },
    {
      "cell_type": "code",
      "metadata": {
        "id": "t9Wsfk4gxeQl"
      },
      "source": [
        "data_frame.rename(columns = {'Отметка времени':'time', \\\n",
        "                             'Ваш пол':'gender', \\\n",
        "                             'Ваш факультет': 'faculty',\\\n",
        "                             'Ваш средний балл': 'average_grade',\n",
        "                             'Сколько времени в среднем в день Вы уделяете учебе (домашние работы, лабораторные)':'study_time',\\\n",
        "                             'Ваш знак зодиака': 'zodiac_sign',\\\n",
        "                             'Как часто Вы пьёте алкоголь?': 'alcohol',\\\n",
        "                             'Как часто Вы курите (сигареты/вейп/кальян)?': 'smoke',\\\n",
        "                             'Как часто Вы пьёте кофе/энергетики?': 'coffee',\\\n",
        "                             'Работаете ли Вы на данный момент?': 'work', \\\n",
        "                             'Как часто Вы посещаете пары?': 'attendance', \\\n",
        "                             'Сколько Вы спите в будний день?': 'sleep',\\\n",
        "                             'Были ли у Вас серьёзные мысли об отчислении?':'expulsion', \\\n",
        "                             'Были ли у Вас мысли о суициде, была ли депрессия?': 'depression',\n",
        "                             'Болели ли Вы Covid-19?': 'covid19',\n",
        "                             'Как часто Вы ходите в библиотеку?': 'library_attendance',\\\n",
        "                             'Кем Вы себя считаете?': 'person_type', \\\n",
        "                             'Состоите ли Вы в Студенческом союзе или похожих организациях?': 'student_union', \\\n",
        "                             'Есть ли у Вас хобби вне университета?': 'hobby',\\\n",
        "                             'Есть ли у Вас отношения?': 'relationship',\\\n",
        "                             'Занимаетесь ли Вы спортом?': 'sport',\\\n",
        "                             'Вы учитесь на платной или бесплатной основе?': 'education_type', \\\n",
        "                             'Количество пересдач за всё время обучения': 'failed_exams',\n",
        "                             'Вы натуральный блондин': 'blond'},\\\n",
        "                             inplace=True)\n"
      ],
      "execution_count": 4,
      "outputs": []
    },
    {
      "cell_type": "markdown",
      "metadata": {
        "id": "ZxXsv3jq7KSv"
      },
      "source": [
        "Удалим столбец с временем заполнения формы, он нас не интересует:"
      ]
    },
    {
      "cell_type": "code",
      "metadata": {
        "id": "K6mJeCTv7JL2"
      },
      "source": [
        "data_frame = data_frame.drop('time', axis = 1)"
      ],
      "execution_count": 5,
      "outputs": []
    },
    {
      "cell_type": "markdown",
      "metadata": {
        "id": "XnhrH1oRFKPC"
      },
      "source": [
        "В некотрых столбцах заменим данные типа Да/Нет на True/False. Помимо этого для столбца `covid19` в опросе уточнялось, когда именно вы болели: до поступления или во время вашего студенчества. Мы решаем, что нам важнее просто информация о том, болел ли человек, поэтому заменяем оба этих варианта на True."
      ]
    },
    {
      "cell_type": "code",
      "metadata": {
        "id": "JY10Uas47WfE"
      },
      "source": [
        "data_frame[['covid19', 'expulsion', 'depression', 'student_union', 'relationship', 'hobby', 'blond']] = data_frame[['covid19', 'expulsion', 'depression', 'student_union', 'relationship', 'hobby', \n",
        "                                                                                                        'blond']].replace(['Да, во время студенчества', 'Да, до поступления', 'Да', \n",
        "                                                                                                                           'Да, на всю страну такой один'], True)\n",
        "data_frame[['covid19', 'expulsion', 'depression', 'student_union', 'relationship', 'hobby', 'blond']] = data_frame[['covid19', 'expulsion', 'depression', 'student_union', 'relationship', 'hobby', \n",
        "                                                                                                        'blond']].replace(['Нет, не болел', 'Нет', 'Нет('], False)"
      ],
      "execution_count": 6,
      "outputs": []
    },
    {
      "cell_type": "markdown",
      "metadata": {
        "id": "sfBeMUAWwqQl"
      },
      "source": [
        "В колонке `gender` помимо вариантов ответа \"мужской\", \"женский\", мы получили несколько неопределенных вариантов, которые для нас равносильны `Nan`. Просто выкинуть их из датасета мы не можем, так как нам важна остальная информация в этих строчках."
      ]
    },
    {
      "cell_type": "code",
      "metadata": {
        "colab": {
          "base_uri": "https://localhost:8080/"
        },
        "id": "3bg5I8AoxdxA",
        "outputId": "bc7a1189-f1a3-43fa-bdcd-461e5d0470dc"
      },
      "source": [
        "data_frame.gender"
      ],
      "execution_count": 7,
      "outputs": [
        {
          "output_type": "execute_result",
          "data": {
            "text/plain": [
              "0      Предпочитаю не говорить (подаюсь в гугл)\n",
              "1      Предпочитаю не говорить (подаюсь в гугл)\n",
              "2                                       Мужской\n",
              "3                                       Женский\n",
              "4                                       Мужской\n",
              "                         ...                   \n",
              "229                                     Мужской\n",
              "230                                     Женский\n",
              "231                                     Женский\n",
              "232                                     Мужской\n",
              "233                                     Женский\n",
              "Name: gender, Length: 234, dtype: object"
            ]
          },
          "metadata": {},
          "execution_count": 7
        }
      ]
    },
    {
      "cell_type": "markdown",
      "metadata": {
        "id": "zrLmh6_HxgJb"
      },
      "source": [
        "Так как корректных данных в колонке гораздо больше, мы решили невалидные данные заменить в том же процентном отношении, в котором сейчас находятся ответы Мужской / Женский."
      ]
    },
    {
      "cell_type": "code",
      "metadata": {
        "id": "tuO2VapIZulw"
      },
      "source": [
        "data_frame['gender'].replace(['Мужской'], 'm', inplace = True)\n",
        "data_frame['gender'].replace(['Женский'], 'f', inplace = True)\n",
        "gender = data_frame.loc[:, 'gender']\n",
        "gender = DataFrame(gender.value_counts())\n",
        "\n",
        "num_of_men = gender.loc['m']\n",
        "num_of_women = gender.loc['f']\n",
        "percent_of_men = num_of_men / (num_of_women + num_of_men)\n",
        "num_of_men = int(gender.loc['Предпочитаю не говорить (подаюсь в гугл)'] * percent_of_men) \n",
        "num_of_women = int(gender.loc['Предпочитаю не говорить (подаюсь в гугл)'] - num_of_men)"
      ],
      "execution_count": 8,
      "outputs": []
    },
    {
      "cell_type": "code",
      "metadata": {
        "colab": {
          "base_uri": "https://localhost:8080/"
        },
        "id": "qtqSoMLIyF-b",
        "outputId": "24911319-6539-4107-aee2-e17ca77ef33b"
      },
      "source": [
        "data_frame.gender.replace(['Предпочитаю не говорить (подаюсь в гугл)'], np.nan, inplace = True)\n",
        "print('Уникальные поля до замены ', data_frame.gender.unique())\n",
        "data_frame.gender.fillna('m', limit = num_of_men, inplace = True)\n",
        "print('Уникальные поля после замены части Nan-ов ', data_frame.gender.unique())\n",
        "data_frame.gender.fillna('f', limit = num_of_women, inplace = True)\n",
        "print('Уникальные поля после замены всех некорректных данных ', data_frame.gender.unique())"
      ],
      "execution_count": 9,
      "outputs": [
        {
          "output_type": "stream",
          "name": "stdout",
          "text": [
            "Уникальные поля до замены  [nan 'm' 'f']\n",
            "Уникальные поля после замены части Nan-ов  ['m' 'f' nan]\n",
            "Уникальные поля после замены всех некорректных данных  ['m' 'f']\n"
          ]
        }
      ]
    },
    {
      "cell_type": "markdown",
      "metadata": {
        "id": "JsxzQwZ-GZJa"
      },
      "source": [
        "Рассмотри колонку `faculty`. Из графика видно, что получилось неоднородная выборка по факультетам университета. Поэтому в дальнейшем учитывать принадлежность к факультету мы не будем."
      ]
    },
    {
      "cell_type": "code",
      "metadata": {
        "id": "-PFS5z4H5bLo",
        "colab": {
          "base_uri": "https://localhost:8080/",
          "height": 339
        },
        "outputId": "030da42d-f397-4c93-ee7b-2b6e719f3c26"
      },
      "source": [
        "plt.figure(figsize=(16, 5))\n",
        "unique_faculty = data_frame.faculty.value_counts()\n",
        "plt.xticks(np.arange(unique_faculty.index.size), unique_faculty.index)\n",
        "plt.bar(range(data_frame.faculty.unique().size), data_frame.faculty.value_counts())"
      ],
      "execution_count": 10,
      "outputs": [
        {
          "output_type": "execute_result",
          "data": {
            "text/plain": [
              "<BarContainer object of 15 artists>"
            ]
          },
          "metadata": {},
          "execution_count": 10
        },
        {
          "output_type": "display_data",
          "data": {
            "image/png": "[encoded data removed]",
            "text/plain": [
              "<Figure size 1152x360 with 1 Axes>"
            ]
          },
          "metadata": {
            "needs_background": "light"
          }
        }
      ]
    },
    {
      "cell_type": "code",
      "metadata": {
        "id": "j9-Nz8uL5ANh",
        "colab": {
          "base_uri": "https://localhost:8080/",
          "height": 1000
        },
        "outputId": "e938a26e-fb7c-409b-c6f7-2a4ca6c12fa5"
      },
      "source": [
        "data_frame"
      ],
      "execution_count": 11,
      "outputs": [
        {
          "output_type": "execute_result",
          "data": {
            "text/html": [
              "<div>\n",
              "<style scoped>\n",
              "    .dataframe tbody tr th:only-of-type {\n",
              "        vertical-align: middle;\n",
              "    }\n",
              "\n",
              "    .dataframe tbody tr th {\n",
              "        vertical-align: top;\n",
              "    }\n",
              "\n",
              "    .dataframe thead th {\n",
              "        text-align: right;\n",
              "    }\n",
              "</style>\n",
              "<table border=\"1\" class=\"dataframe\">\n",
              "  <thead>\n",
              "    <tr style=\"text-align: right;\">\n",
              "      <th></th>\n",
              "      <th>gender</th>\n",
              "      <th>faculty</th>\n",
              "      <th>average_grade</th>\n",
              "      <th>study_time</th>\n",
              "      <th>zodiac_sign</th>\n",
              "      <th>alcohol</th>\n",
              "      <th>smoke</th>\n",
              "      <th>coffee</th>\n",
              "      <th>work</th>\n",
              "      <th>attendance</th>\n",
              "      <th>sleep</th>\n",
              "      <th>expulsion</th>\n",
              "      <th>depression</th>\n",
              "      <th>covid19</th>\n",
              "      <th>library_attendance</th>\n",
              "      <th>person_type</th>\n",
              "      <th>student_union</th>\n",
              "      <th>hobby</th>\n",
              "      <th>relationship</th>\n",
              "      <th>sport</th>\n",
              "      <th>education_type</th>\n",
              "      <th>failed_exams</th>\n",
              "      <th>blond</th>\n",
              "    </tr>\n",
              "  </thead>\n",
              "  <tbody>\n",
              "    <tr>\n",
              "      <th>0</th>\n",
              "      <td>m</td>\n",
              "      <td>ФПМИ</td>\n",
              "      <td>5.1 - 7.0</td>\n",
              "      <td>Могу посидеть и 3, и 4</td>\n",
              "      <td>Рыбы</td>\n",
              "      <td>Не пью</td>\n",
              "      <td>Не курю</td>\n",
              "      <td>Не пью</td>\n",
              "      <td>Нет</td>\n",
              "      <td>Пропускаю &lt;25% пар в неделю</td>\n",
              "      <td>7-8 часов в сутки</td>\n",
              "      <td>True</td>\n",
              "      <td>False</td>\n",
              "      <td>True</td>\n",
              "      <td>Не хожу в библиотеку</td>\n",
              "      <td>Интроверт</td>\n",
              "      <td>False</td>\n",
              "      <td>True</td>\n",
              "      <td>True</td>\n",
              "      <td>Да, но только на физре</td>\n",
              "      <td>Бесплатно, потерял стипендию</td>\n",
              "      <td>1-5 пересдач</td>\n",
              "      <td>False</td>\n",
              "    </tr>\n",
              "    <tr>\n",
              "      <th>1</th>\n",
              "      <td>m</td>\n",
              "      <td>ФПМИ</td>\n",
              "      <td>5.1 - 7.0</td>\n",
              "      <td>Максимум 2 часа</td>\n",
              "      <td>Дева</td>\n",
              "      <td>Раз в месяц</td>\n",
              "      <td>Не курю</td>\n",
              "      <td>Пью почти каждый день</td>\n",
              "      <td>Нет</td>\n",
              "      <td>Пропускаю &lt;25% пар в неделю</td>\n",
              "      <td>4-6 часов в сутки</td>\n",
              "      <td>True</td>\n",
              "      <td>True</td>\n",
              "      <td>True</td>\n",
              "      <td>Не хожу в библиотеку</td>\n",
              "      <td>Интроверт</td>\n",
              "      <td>False</td>\n",
              "      <td>True</td>\n",
              "      <td>True</td>\n",
              "      <td>Да, но только на физре</td>\n",
              "      <td>Платно</td>\n",
              "      <td>1-5 пересдач</td>\n",
              "      <td>False</td>\n",
              "    </tr>\n",
              "    <tr>\n",
              "      <th>2</th>\n",
              "      <td>m</td>\n",
              "      <td>ФПМИ</td>\n",
              "      <td>7.1 - 8.0</td>\n",
              "      <td>Могу посидеть и 3, и 4</td>\n",
              "      <td>Козерог</td>\n",
              "      <td>Не пью</td>\n",
              "      <td>Не курю</td>\n",
              "      <td>Пью реже, чем раз в две недели</td>\n",
              "      <td>Да, по специальности</td>\n",
              "      <td>Хожу на все пары</td>\n",
              "      <td>7-8 часов в сутки</td>\n",
              "      <td>False</td>\n",
              "      <td>False</td>\n",
              "      <td>False</td>\n",
              "      <td>Не хожу в библиотеку</td>\n",
              "      <td>Интроверт</td>\n",
              "      <td>False</td>\n",
              "      <td>True</td>\n",
              "      <td>False</td>\n",
              "      <td>Да, вне физры</td>\n",
              "      <td>Бесплатно, получаю стипендию</td>\n",
              "      <td>Не пересдавал(а)</td>\n",
              "      <td>False</td>\n",
              "    </tr>\n",
              "    <tr>\n",
              "      <th>3</th>\n",
              "      <td>f</td>\n",
              "      <td>ФПМИ</td>\n",
              "      <td>5.1 - 7.0</td>\n",
              "      <td>Могу посидеть и 3, и 4</td>\n",
              "      <td>Весы</td>\n",
              "      <td>Раз в месяц</td>\n",
              "      <td>Не курю</td>\n",
              "      <td>Пью 1-3 раза в неделю</td>\n",
              "      <td>Нет</td>\n",
              "      <td>Хожу на все пары</td>\n",
              "      <td>7-8 часов в сутки</td>\n",
              "      <td>True</td>\n",
              "      <td>True</td>\n",
              "      <td>False</td>\n",
              "      <td>Редко, 1-2 раза в месяц</td>\n",
              "      <td>Амбиверт</td>\n",
              "      <td>False</td>\n",
              "      <td>True</td>\n",
              "      <td>False</td>\n",
              "      <td>Да, но только на физре</td>\n",
              "      <td>Бесплатно, получаю стипендию</td>\n",
              "      <td>Не пересдавал(а)</td>\n",
              "      <td>True</td>\n",
              "    </tr>\n",
              "    <tr>\n",
              "      <th>4</th>\n",
              "      <td>m</td>\n",
              "      <td>ФПМИ</td>\n",
              "      <td>8.1 - 9.0</td>\n",
              "      <td>Ботаю ол дэй лонг</td>\n",
              "      <td>Овен</td>\n",
              "      <td>Раз в неделю</td>\n",
              "      <td>Реже, чем раз в день</td>\n",
              "      <td>Пью реже, чем раз в две недели</td>\n",
              "      <td>Да, по специальности</td>\n",
              "      <td>Пропускаю &gt;70% пар в неделю</td>\n",
              "      <td>7-8 часов в сутки</td>\n",
              "      <td>False</td>\n",
              "      <td>False</td>\n",
              "      <td>False</td>\n",
              "      <td>Не хожу в библиотеку</td>\n",
              "      <td>Экстраверт</td>\n",
              "      <td>False</td>\n",
              "      <td>True</td>\n",
              "      <td>True</td>\n",
              "      <td>Да, вне физры</td>\n",
              "      <td>Бесплатно, получаю стипендию</td>\n",
              "      <td>Не пересдавал(а)</td>\n",
              "      <td>False</td>\n",
              "    </tr>\n",
              "    <tr>\n",
              "      <th>...</th>\n",
              "      <td>...</td>\n",
              "      <td>...</td>\n",
              "      <td>...</td>\n",
              "      <td>...</td>\n",
              "      <td>...</td>\n",
              "      <td>...</td>\n",
              "      <td>...</td>\n",
              "      <td>...</td>\n",
              "      <td>...</td>\n",
              "      <td>...</td>\n",
              "      <td>...</td>\n",
              "      <td>...</td>\n",
              "      <td>...</td>\n",
              "      <td>...</td>\n",
              "      <td>...</td>\n",
              "      <td>...</td>\n",
              "      <td>...</td>\n",
              "      <td>...</td>\n",
              "      <td>...</td>\n",
              "      <td>...</td>\n",
              "      <td>...</td>\n",
              "      <td>...</td>\n",
              "      <td>...</td>\n",
              "    </tr>\n",
              "    <tr>\n",
              "      <th>229</th>\n",
              "      <td>m</td>\n",
              "      <td>ММФ</td>\n",
              "      <td>7.1 - 8.0</td>\n",
              "      <td>Ботаю ол дэй лонг</td>\n",
              "      <td>Лев</td>\n",
              "      <td>Раз в месяц</td>\n",
              "      <td>Больше, чем 3 раза в день</td>\n",
              "      <td>Пью реже, чем раз в две недели</td>\n",
              "      <td>Нет</td>\n",
              "      <td>Пропускаю &lt;50% пар в неделю</td>\n",
              "      <td>4-6 часов в сутки</td>\n",
              "      <td>True</td>\n",
              "      <td>True</td>\n",
              "      <td>True</td>\n",
              "      <td>Не хожу в библиотеку</td>\n",
              "      <td>Экстраверт</td>\n",
              "      <td>True</td>\n",
              "      <td>True</td>\n",
              "      <td>True</td>\n",
              "      <td>Да, но только на физре</td>\n",
              "      <td>Бесплатно, получаю стипендию</td>\n",
              "      <td>Не пересдавал(а)</td>\n",
              "      <td>False</td>\n",
              "    </tr>\n",
              "    <tr>\n",
              "      <th>230</th>\n",
              "      <td>f</td>\n",
              "      <td>ММФ</td>\n",
              "      <td>7.1 - 8.0</td>\n",
              "      <td>Могу посидеть и 3, и 4</td>\n",
              "      <td>Овен</td>\n",
              "      <td>Не пью</td>\n",
              "      <td>Больше, чем 3 раза в день</td>\n",
              "      <td>Пью почти каждый день</td>\n",
              "      <td>Да, не по специальности</td>\n",
              "      <td>Пропускаю &lt;25% пар в неделю</td>\n",
              "      <td>4-6 часов в сутки</td>\n",
              "      <td>False</td>\n",
              "      <td>True</td>\n",
              "      <td>True</td>\n",
              "      <td>Не хожу в библиотеку</td>\n",
              "      <td>Амбиверт</td>\n",
              "      <td>False</td>\n",
              "      <td>True</td>\n",
              "      <td>True</td>\n",
              "      <td>Да, вне физры</td>\n",
              "      <td>Бесплатно, получаю стипендию</td>\n",
              "      <td>Не пересдавал(а)</td>\n",
              "      <td>False</td>\n",
              "    </tr>\n",
              "    <tr>\n",
              "      <th>231</th>\n",
              "      <td>f</td>\n",
              "      <td>ММФ</td>\n",
              "      <td>8.1 - 9.0</td>\n",
              "      <td>Максимум 2 часа</td>\n",
              "      <td>Скорпион</td>\n",
              "      <td>Раз в месяц</td>\n",
              "      <td>Не курю</td>\n",
              "      <td>Пью почти каждый день</td>\n",
              "      <td>Да, не по специальности</td>\n",
              "      <td>Хожу на все пары</td>\n",
              "      <td>7-8 часов в сутки</td>\n",
              "      <td>True</td>\n",
              "      <td>True</td>\n",
              "      <td>False</td>\n",
              "      <td>Не хожу в библиотеку</td>\n",
              "      <td>Амбиверт</td>\n",
              "      <td>False</td>\n",
              "      <td>True</td>\n",
              "      <td>False</td>\n",
              "      <td>Да, но только на физре</td>\n",
              "      <td>Бесплатно, получаю стипендию</td>\n",
              "      <td>Не пересдавал(а)</td>\n",
              "      <td>False</td>\n",
              "    </tr>\n",
              "    <tr>\n",
              "      <th>232</th>\n",
              "      <td>m</td>\n",
              "      <td>ММФ</td>\n",
              "      <td>5.1 - 7.0</td>\n",
              "      <td>Максимум 2 часа</td>\n",
              "      <td>Козерог</td>\n",
              "      <td>Раз в неделю</td>\n",
              "      <td>Реже, чем раз в день</td>\n",
              "      <td>Пью почти каждый день</td>\n",
              "      <td>Да, не по специальности</td>\n",
              "      <td>Пропускаю &lt;50% пар в неделю</td>\n",
              "      <td>4-6 часов в сутки</td>\n",
              "      <td>True</td>\n",
              "      <td>False</td>\n",
              "      <td>True</td>\n",
              "      <td>Не хожу в библиотеку</td>\n",
              "      <td>Интроверт</td>\n",
              "      <td>True</td>\n",
              "      <td>True</td>\n",
              "      <td>True</td>\n",
              "      <td>Нет</td>\n",
              "      <td>Бесплатно, потерял стипендию</td>\n",
              "      <td>Больше 5 пересдач</td>\n",
              "      <td>False</td>\n",
              "    </tr>\n",
              "    <tr>\n",
              "      <th>233</th>\n",
              "      <td>f</td>\n",
              "      <td>ММФ</td>\n",
              "      <td>8.1 - 9.0</td>\n",
              "      <td>Могу посидеть и 3, и 4</td>\n",
              "      <td>Козерог</td>\n",
              "      <td>Раз в месяц</td>\n",
              "      <td>Не курю</td>\n",
              "      <td>Пью 1-3 раза в неделю</td>\n",
              "      <td>Нет</td>\n",
              "      <td>Хожу на все пары</td>\n",
              "      <td>7-8 часов в сутки</td>\n",
              "      <td>False</td>\n",
              "      <td>False</td>\n",
              "      <td>False</td>\n",
              "      <td>Редко, 1-2 раза в месяц</td>\n",
              "      <td>Интроверт</td>\n",
              "      <td>False</td>\n",
              "      <td>False</td>\n",
              "      <td>False</td>\n",
              "      <td>Да, но только на физре</td>\n",
              "      <td>Бесплатно, получаю стипендию</td>\n",
              "      <td>Не пересдавал(а)</td>\n",
              "      <td>False</td>\n",
              "    </tr>\n",
              "  </tbody>\n",
              "</table>\n",
              "<p>234 rows × 23 columns</p>\n",
              "</div>"
            ],
            "text/plain": [
              "    gender faculty  ...       failed_exams  blond\n",
              "0        m    ФПМИ  ...       1-5 пересдач  False\n",
              "1        m    ФПМИ  ...       1-5 пересдач  False\n",
              "2        m    ФПМИ  ...   Не пересдавал(а)  False\n",
              "3        f    ФПМИ  ...   Не пересдавал(а)   True\n",
              "4        m    ФПМИ  ...   Не пересдавал(а)  False\n",
              "..     ...     ...  ...                ...    ...\n",
              "229      m     ММФ  ...   Не пересдавал(а)  False\n",
              "230      f     ММФ  ...   Не пересдавал(а)  False\n",
              "231      f     ММФ  ...   Не пересдавал(а)  False\n",
              "232      m     ММФ  ...  Больше 5 пересдач  False\n",
              "233      f     ММФ  ...   Не пересдавал(а)  False\n",
              "\n",
              "[234 rows x 23 columns]"
            ]
          },
          "metadata": {},
          "execution_count": 11
        }
      ]
    },
    {
      "cell_type": "markdown",
      "source": [
        "# Анализ успеваемости"
      ],
      "metadata": {
        "id": "Qupz2gQGP1EC"
      }
    },
    {
      "cell_type": "markdown",
      "source": [
        "Для начала посмотрим на результаты по успеваемости опроса и найдем среднюю успеваемость."
      ],
      "metadata": {
        "id": "6DVprr3nzv7m"
      }
    },
    {
      "cell_type": "code",
      "source": [
        "plt.figure(figsize=(7, 5))\n",
        "grades = data_frame.average_grade.value_counts()\n",
        "grades = grades.reindex(['4.0 - 5.0', '5.1 - 7.0','7.1 - 8.0', '8.1 - 9.0', '9.1 - 10.0'])\n",
        "plt.xticks(np.arange(grades.index.size), grades.index)\n",
        "plt.bar(range(data_frame.average_grade.unique().size), grades)"
      ],
      "metadata": {
        "id": "j7vsIK_v0SWi",
        "outputId": "60f7ced8-28b2-45b5-8b84-96df215508b7",
        "colab": {
          "base_uri": "https://localhost:8080/",
          "height": 338
        }
      },
      "execution_count": 12,
      "outputs": [
        {
          "output_type": "execute_result",
          "data": {
            "text/plain": [
              "<BarContainer object of 5 artists>"
            ]
          },
          "metadata": {},
          "execution_count": 12
        },
        {
          "output_type": "display_data",
          "data": {
            "image/png": "[encoded data removed]",
            "text/plain": [
              "<Figure size 504x360 with 1 Axes>"
            ]
          },
          "metadata": {
            "needs_background": "light"
          }
        }
      ]
    },
    {
      "cell_type": "markdown",
      "source": [
        "Так уж вышло, что данные по успеваемости были собраны в интервальном виде, а не в численном. Единственное, что мы пока можем сказать, это то, что наиболее часто встречающийся интервал по успеваемости [5.1 - 7.0]. Даже сказать, что данные по успеваемости обладают положительной ассиметрией будет неправильно, хоть и хочется так сделать, смотря на график.\n",
        "Существуют специальные формулы, позволяющие вычислить моду, медиану и среднее для интервальных данных. Формула для вычисления моды:\n",
        "\n",
        "$$ M = x_{M_0} + \\frac{f_{M_0} - f_{M_0 - 1}}{(f_{M_0} - f_{M_0 - 1}) + (f_{M_0} - f_{M_0 + 1})} \\cdot i_{M_0}$$ где $x_{M_0}$ - нижняя граница модального интервала,\n",
        "\n",
        "$i_{M_0}$ - длина модального интервала,\n",
        "\n",
        "$f_{M_0}$ - частота модального интервала,\n",
        "\n",
        "$f_{M_0 - 1}$ - частота предыдущего интервала,\n",
        "\n",
        "$f_{M_0 + 1}$ - частота следующего интервала.\n",
        "\n",
        "Формула для вычисления медианы:\n",
        "\n",
        "$$m = x_{M_0} + \\frac{0.5n - N_{M_0 - 1}}{n_{M_0}} \\cdot i_{M_0}$$\n",
        "\n",
        "где $n$ - объем выборочной совокупности,\n",
        "\n",
        "$x_{M_0}$ - нижняя граница медианного интервала,\n",
        "\n",
        "$i_{M_0}$ - длина медианного интервала,\n",
        "\n",
        "$n_{M_0}$ - частота медианного интервала,\n",
        "\n",
        "$N_{M_0 - 1}$ - накопленная частота предыдущего интервала.\n",
        "\n",
        "Для нахождения среднего, дисперсии и коэффициента ассиметрии каждый интервал заменяется на свою середину.\n",
        "\n",
        "\n",
        "\n",
        "\n",
        "\n"
      ],
      "metadata": {
        "id": "RBBSDcdO7lDL"
      }
    },
    {
      "cell_type": "markdown",
      "source": [
        "Усредним каждый интервал, найдем частоту и накопленную частоту для каждого интервала."
      ],
      "metadata": {
        "id": "cQ88M5FQLbTA"
      }
    },
    {
      "cell_type": "code",
      "source": [
        "averaged_grades = {}\n",
        "for i in grades.index:\n",
        "  averaged_grades[i] = averaged_grades.get(i, 0) + (float(i.split(' - ')[0]) + float(i.split(' - ')[1]))/2\n",
        "\n",
        "averaged_grades = DataFrame(Series(averaged_grades), columns = ['averaged_interval'])\n",
        "\n",
        "\n",
        "frequency = np.array(grades)\n",
        "accumulated_frequency = np.arange(5)\n",
        "sum = 0\n",
        "i = 0\n",
        "for num in frequency:\n",
        "  sum += num\n",
        "  accumulated_frequency[i] = sum\n",
        "  i += 1\n",
        "\n",
        "averaged_grades['frequency'] = frequency\n",
        "averaged_grades['accumulated_frequency'] = accumulated_frequency\n",
        "\n",
        "print(averaged_grades)\n",
        "\n",
        "averaged_grades_in_array = []\n",
        "\n",
        "averaged_grades.loc['4.0 - 5.0']['frequency']\n",
        "\n",
        "for i in averaged_grades.index:\n",
        "  averaged_grades_in_array = np.append(averaged_grades_in_array, np.repeat(averaged_grades.loc[i]['averaged_interval'], averaged_grades.loc[i]['frequency']))\n"
      ],
      "metadata": {
        "id": "Qm8mVHFZHrCs",
        "outputId": "1c5f1768-0658-4de1-9157-d2c399a262b5",
        "colab": {
          "base_uri": "https://localhost:8080/"
        }
      },
      "execution_count": 13,
      "outputs": [
        {
          "output_type": "stream",
          "name": "stdout",
          "text": [
            "            averaged_interval  frequency  accumulated_frequency\n",
            "4.0 - 5.0                4.50          9                      9\n",
            "5.1 - 7.0                6.05         80                     89\n",
            "7.1 - 8.0                7.55         63                    152\n",
            "8.1 - 9.0                8.55         57                    209\n",
            "9.1 - 10.0               9.55         25                    234\n"
          ]
        }
      ]
    },
    {
      "cell_type": "markdown",
      "source": [
        "Наш модальный интервал: 5.1 - 7.0. Длина модального интервала: 1,9. Наш медианный интервал: 7.1 - 8.0. Длина медианного интервала: 0.9."
      ],
      "metadata": {
        "id": "TGz69lSxLy4O"
      }
    },
    {
      "cell_type": "code",
      "source": [
        "i = 1\n",
        "moda = 5.1 + 1.9 * (averaged_grades.iloc[i]['frequency'] - averaged_grades.iloc[i - 1]['frequency']) / (2 * averaged_grades.iloc[i]['frequency'] - \n",
        "                                                                                                        averaged_grades.iloc[i - 1]['frequency'] - averaged_grades.iloc[i + 1]['frequency'])\n",
        "print('Мода ', moda)\n",
        "j = 2\n",
        "median = 5.1 + 1.9 * (0.5 * len(averaged_grades_in_array) - averaged_grades.iloc[j - 1]['accumulated_frequency']) / averaged_grades.iloc[j]['frequency']\n",
        "print('Медиана ', median)\n",
        "mean = np.mean(averaged_grades_in_array)\n",
        "print('Среднее значение ', mean)\n",
        "print('Выборочная дисперсия ', np.var(averaged_grades_in_array))\n",
        "std = np.std(averaged_grades_in_array)\n",
        "print('Выборочное среднее квадратическое отклонение ', std)\n",
        "numerator = 1. / len(averaged_grades_in_array) * np.sum((averaged_grades_in_array - mean) ** 3)\n",
        "denominator = (1. / len(averaged_grades_in_array) * np.sum((averaged_grades_in_array - mean) ** 2)) ** 1.5\n",
        "skewness = numerator / denominator\n",
        "print('Коэффициент ассиметрии: ', skewness)"
      ],
      "metadata": {
        "id": "a_F2eY4yLsfp",
        "outputId": "34a91208-70af-48b4-d749-dc65e7bc2976",
        "colab": {
          "base_uri": "https://localhost:8080/"
        }
      },
      "execution_count": 14,
      "outputs": [
        {
          "output_type": "stream",
          "name": "stdout",
          "text": [
            "Мода  6.632954545454545\n",
            "Медиана  5.944444444444444\n",
            "Среднее значение  7.37713675213675\n",
            "Выборочная дисперсия  1.7680776992475717\n",
            "Выборочное среднее квадратическое отклонение  1.3296908284438047\n",
            "Коэффициент ассиметрии:  -0.0955926285840622\n"
          ]
        }
      ]
    },
    {
      "cell_type": "markdown",
      "source": [
        "Полученная статистика показывает, что наши данные в принципе очень близки к нормальному распредлению.\n",
        "\n",
        "Нормальное распределение в `numpy` на таком же размере массива даёт близкую к нашей разницу между модей, медианой и средним и так же дает ненулевой коэффициент ассиметрии."
      ],
      "metadata": {
        "id": "oydhG59ojRba"
      }
    },
    {
      "cell_type": "code",
      "source": [
        "normal = np.random.rand(len(averaged_grades_in_array))\n",
        "print('Мода ', normal[np.argmax(np.unique(normal, return_counts=True)[0])])\n",
        "print('Медиана ', np.median(normal))\n",
        "print('Среднее значение ', np.mean(normal))\n",
        "numerator = 1. / len(normal) * np.sum((normal - np.mean(normal)) ** 3)\n",
        "denominator = (1. / len(normal) * np.sum((normal - np.mean(normal)) ** 2)) ** 1.5\n",
        "skewness = numerator / denominator\n",
        "print('Коэффициент ассиметрии: ', skewness)"
      ],
      "metadata": {
        "id": "vdPvF0BpWS8N",
        "outputId": "1ceb099a-b48b-4ab6-8a6e-a410e0383ccc",
        "colab": {
          "base_uri": "https://localhost:8080/"
        }
      },
      "execution_count": 15,
      "outputs": [
        {
          "output_type": "stream",
          "name": "stdout",
          "text": [
            "Мода  0.5949235335933931\n",
            "Медиана  0.49278861860892215\n",
            "Среднее значение  0.49531563995928257\n",
            "Коэффициент ассиметрии:  0.027657943217916602\n"
          ]
        }
      ]
    },
    {
      "cell_type": "markdown",
      "source": [
        "# Анализ влияния формы обучения на успеваемость студента"
      ],
      "metadata": {
        "id": "iixrbOPakE5Q"
      }
    },
    {
      "cell_type": "markdown",
      "source": [
        "Мы хотели изучить зависимость между успеваемостью студентов, количеством пересдач и обучением на платной или бесплатной основе."
      ],
      "metadata": {
        "id": "bXhkRXnDSobI"
      }
    },
    {
      "cell_type": "code",
      "source": [
        "education_type = data_frame.education_type.value_counts()"
      ],
      "metadata": {
        "id": "IS4BNbesP9FZ"
      },
      "execution_count": 16,
      "outputs": []
    },
    {
      "cell_type": "code",
      "source": [
        "failed_exams = data_frame.failed_exams.value_counts()\n",
        "print('Процент студентов, получавших пересдачи:', (failed_exams.loc['1-5 пересдач'] + failed_exams.loc['Больше 5 пересдач']) / len(data_frame.failed_exams) * 100, '%')\n",
        "print('Процент студентов, получивших больше 5 пересдач:', failed_exams.loc['Больше 5 пересдач'] / len(data_frame.failed_exams) * 100, '%')"
      ],
      "metadata": {
        "id": "HIpZcxzpYi4k",
        "outputId": "0d60adfa-8cef-43c5-950a-6a189ecb5dad",
        "colab": {
          "base_uri": "https://localhost:8080/"
        }
      },
      "execution_count": 17,
      "outputs": [
        {
          "output_type": "stream",
          "name": "stdout",
          "text": [
            "Процент студентов, получавших пересдачи: 21.367521367521366 %\n",
            "Процент студентов, получивших больше 5 пересдач: 2.9914529914529915 %\n"
          ]
        }
      ]
    },
    {
      "cell_type": "markdown",
      "source": [
        "Найдем приблизительный средний балл успеваемости для разных групп студентов по типу обучения. При этом объединять \"бесплатников\" не будем."
      ],
      "metadata": {
        "id": "WpAkx_A0jS0D"
      }
    },
    {
      "cell_type": "code",
      "source": [
        "education_type_and_grades = data_frame.groupby(by = ['education_type'])['average_grade'].value_counts()\n",
        "education_type_and_grades\n",
        "\n",
        "mean_grades = {}\n",
        "for i in education_type_and_grades.index:\n",
        "  mean_grades[i[0]] = mean_grades.get(i[0], 0) + (float(i[1].split(' - ')[0]) + float(i[1].split(' - ')[1]))/2 * education_type_and_grades[i]\n",
        "for key in mean_grades:\n",
        "  mean_grades[key] /= education_type[key]\n",
        "\n",
        "print('Средние баллы студентов:')\n",
        "Series(mean_grades)\n",
        " "
      ],
      "metadata": {
        "id": "z4QODp9cjnmJ",
        "outputId": "b33053c6-21a3-4bb0-d6d3-8c2d7f19dd35",
        "colab": {
          "base_uri": "https://localhost:8080/"
        }
      },
      "execution_count": null,
      "outputs": [
        {
          "output_type": "stream",
          "name": "stdout",
          "text": [
            "Средние баллы студентов:\n"
          ]
        },
        {
          "output_type": "execute_result",
          "data": {
            "text/plain": [
              "Бесплатно, получаю стипендию    7.567838\n",
              "Бесплатно, потерял стипендию    6.360526\n",
              "Платно                          6.845000\n",
              "dtype: float64"
            ]
          },
          "metadata": {},
          "execution_count": 17
        }
      ]
    },
    {
      "cell_type": "markdown",
      "source": [
        "Из полученных результатов, видим, что у \"бесплатников\", потерявших свою стипендию, средний балл практически на 1 ниже чем у остальных \"бесплатников\". Да и средний балл \"платников\" также ниже. Что можно из этого понять? Большинство \"платников\" практически никак не мотивированы, чтобы усиленно работать ради оценок. "
      ],
      "metadata": {
        "id": "qfDqSlGwm7C1"
      }
    },
    {
      "cell_type": "markdown",
      "source": [
        "Проверим, сколько бесплатников, в итоге смогли вернуть стипендию."
      ],
      "metadata": {
        "id": "1G8-qbh-U1k1"
      }
    },
    {
      "cell_type": "code",
      "source": [
        "less_than_five, more_than_five = failed_exams.loc[['1-5 пересдач', 'Больше 5 пересдач']]\n",
        "total = less_than_five + more_than_five\n",
        "less_than_five, more_than_five = data_frame.loc[:, ['education_type', 'failed_exams']].set_index('education_type').loc['Платно'].value_counts().loc[['1-5 пересдач', 'Больше 5 пересдач']]\n",
        "num_who_pays = less_than_five + more_than_five\n",
        "statistic = data_frame.loc[:, ['education_type', 'failed_exams']].set_index('education_type').loc['Бесплатно, получаю стипендию'].value_counts()\n",
        "less_than_five, more_than_five = statistic.loc[['1-5 пересдач', 'Больше 5 пересдач']]\n",
        "print('Процент студентов, вернувших себе стипендию: ', (less_than_five + more_than_five) / (total - num_who_pays) * 100, '%')"
      ],
      "metadata": {
        "id": "r3fHt7DpTOsv",
        "outputId": "54b03f8c-b933-4125-8093-4822a4cbabed",
        "colab": {
          "base_uri": "https://localhost:8080/"
        }
      },
      "execution_count": 18,
      "outputs": [
        {
          "output_type": "stream",
          "name": "stdout",
          "text": [
            "Процент студентов, вернувших себе стипендию:  48.64864864864865 %\n"
          ]
        }
      ]
    }
  ]
}
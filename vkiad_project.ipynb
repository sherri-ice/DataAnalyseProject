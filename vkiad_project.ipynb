{
  "nbformat": 4,
  "nbformat_minor": 0,
  "metadata": {
    "colab": {
      "name": "vkiad_project",
      "provenance": [],
      "include_colab_link": true
    },
    "kernelspec": {
      "name": "python3",
      "display_name": "Python 3"
    },
    "language_info": {
      "name": "python"
    }
  },
  "cells": [
    {
      "cell_type": "markdown",
      "metadata": {
        "id": "view-in-github",
        "colab_type": "text"
      },
      "source": [
        "<a href=\"https://colab.research.google.com/github/sherri-ice/DataAnalyseProject/blob/depression_drop_out_suicide/vkiad_project.ipynb\" target=\"_parent\"><img src=\"https://colab.research.google.com/assets/colab-badge.svg\" alt=\"Open In Colab\"/></a>"
      ]
    },
    {
      "cell_type": "code",
      "metadata": {
        "id": "4S7PCM7TxZD8"
      },
      "source": [
        "import pandas as pd\n",
        "from pandas import Series, DataFrame\n",
        "\n",
        "import numpy as np\n",
        "\n",
        "import matplotlib.pyplot as plt\n",
        "%matplotlib inline\n"
      ],
      "execution_count": null,
      "outputs": []
    },
    {
      "cell_type": "code",
      "metadata": {
        "id": "aaC6_7tBwgF1",
        "colab": {
          "base_uri": "https://localhost:8080/",
          "height": 1000
        },
        "outputId": "c1e7dd92-092b-4e30-b96e-66a18c2764b1"
      },
      "source": [
        "uri_to_data_frame = \"https://raw.githubusercontent.com/sherri-ice/DataAnalyseProject/main/dataframe.csv\"\n",
        "data_frame =  pd.read_csv(uri_to_data_frame)\n",
        "data_frame"
      ],
      "execution_count": null,
      "outputs": [
        {
          "output_type": "execute_result",
          "data": {
            "text/html": [
              "<div>\n",
              "<style scoped>\n",
              "    .dataframe tbody tr th:only-of-type {\n",
              "        vertical-align: middle;\n",
              "    }\n",
              "\n",
              "    .dataframe tbody tr th {\n",
              "        vertical-align: top;\n",
              "    }\n",
              "\n",
              "    .dataframe thead th {\n",
              "        text-align: right;\n",
              "    }\n",
              "</style>\n",
              "<table border=\"1\" class=\"dataframe\">\n",
              "  <thead>\n",
              "    <tr style=\"text-align: right;\">\n",
              "      <th></th>\n",
              "      <th>Отметка времени</th>\n",
              "      <th>Ваш пол</th>\n",
              "      <th>Ваш факультет</th>\n",
              "      <th>Ваш средний балл</th>\n",
              "      <th>Сколько времени в среднем в день Вы уделяете учебе (домашние работы, лабораторные)</th>\n",
              "      <th>Ваш знак зодиака</th>\n",
              "      <th>Как часто Вы пьёте алкоголь?</th>\n",
              "      <th>Как часто Вы курите (сигареты/вейп/кальян)?</th>\n",
              "      <th>Как часто Вы пьёте кофе/энергетики?</th>\n",
              "      <th>Работаете ли Вы на данный момент?</th>\n",
              "      <th>Как часто Вы посещаете пары?</th>\n",
              "      <th>Сколько Вы спите в будний день?</th>\n",
              "      <th>Были ли у Вас серьёзные мысли об отчислении?</th>\n",
              "      <th>Были ли у Вас мысли о суициде, была ли депрессия?</th>\n",
              "      <th>Болели ли Вы Covid-19?</th>\n",
              "      <th>Как часто Вы ходите в библиотеку?</th>\n",
              "      <th>Кем Вы себя считаете?</th>\n",
              "      <th>Состоите ли Вы в Студенческом союзе или похожих организациях?</th>\n",
              "      <th>Есть ли у Вас хобби вне университета?</th>\n",
              "      <th>Есть ли у Вас отношения?</th>\n",
              "      <th>Занимаетесь ли Вы спортом?</th>\n",
              "      <th>Вы учитесь на платной или бесплатной основе?</th>\n",
              "      <th>Количество пересдач за всё время обучения</th>\n",
              "      <th>Вы натуральный блондин</th>\n",
              "    </tr>\n",
              "  </thead>\n",
              "  <tbody>\n",
              "    <tr>\n",
              "      <th>0</th>\n",
              "      <td>2021/11/26 12:21:04 PM GMT+3</td>\n",
              "      <td>Предпочитаю не говорить (подаюсь в гугл)</td>\n",
              "      <td>ФПМИ</td>\n",
              "      <td>5.1 - 7.0</td>\n",
              "      <td>Могу посидеть и 3, и 4</td>\n",
              "      <td>Рыбы</td>\n",
              "      <td>Не пью</td>\n",
              "      <td>Не курю</td>\n",
              "      <td>Не пью</td>\n",
              "      <td>Нет</td>\n",
              "      <td>Пропускаю &lt;25% пар в неделю</td>\n",
              "      <td>7-8 часов в сутки</td>\n",
              "      <td>Да</td>\n",
              "      <td>Нет</td>\n",
              "      <td>Да, во время студенчества</td>\n",
              "      <td>Не хожу в библиотеку</td>\n",
              "      <td>Интроверт</td>\n",
              "      <td>Нет</td>\n",
              "      <td>Да</td>\n",
              "      <td>Да</td>\n",
              "      <td>Да, но только на физре</td>\n",
              "      <td>Бесплатно, потерял стипендию</td>\n",
              "      <td>1-5 пересдач</td>\n",
              "      <td>Нет(</td>\n",
              "    </tr>\n",
              "    <tr>\n",
              "      <th>1</th>\n",
              "      <td>2021/11/26 12:21:41 PM GMT+3</td>\n",
              "      <td>Предпочитаю не говорить (подаюсь в гугл)</td>\n",
              "      <td>ФПМИ</td>\n",
              "      <td>5.1 - 7.0</td>\n",
              "      <td>Максимум 2 часа</td>\n",
              "      <td>Дева</td>\n",
              "      <td>Раз в месяц</td>\n",
              "      <td>Не курю</td>\n",
              "      <td>Пью почти каждый день</td>\n",
              "      <td>Нет</td>\n",
              "      <td>Пропускаю &lt;25% пар в неделю</td>\n",
              "      <td>4-6 часов в сутки</td>\n",
              "      <td>Да</td>\n",
              "      <td>Да</td>\n",
              "      <td>Да, во время студенчества</td>\n",
              "      <td>Не хожу в библиотеку</td>\n",
              "      <td>Интроверт</td>\n",
              "      <td>Нет</td>\n",
              "      <td>Да</td>\n",
              "      <td>Да</td>\n",
              "      <td>Да, но только на физре</td>\n",
              "      <td>Платно</td>\n",
              "      <td>1-5 пересдач</td>\n",
              "      <td>Нет(</td>\n",
              "    </tr>\n",
              "    <tr>\n",
              "      <th>2</th>\n",
              "      <td>2021/11/26 12:21:57 PM GMT+3</td>\n",
              "      <td>Мужской</td>\n",
              "      <td>ФПМИ</td>\n",
              "      <td>7.1 - 8.0</td>\n",
              "      <td>Могу посидеть и 3, и 4</td>\n",
              "      <td>Козерог</td>\n",
              "      <td>Не пью</td>\n",
              "      <td>Не курю</td>\n",
              "      <td>Пью реже, чем раз в две недели</td>\n",
              "      <td>Да, по специальности</td>\n",
              "      <td>Хожу на все пары</td>\n",
              "      <td>7-8 часов в сутки</td>\n",
              "      <td>Нет</td>\n",
              "      <td>Нет</td>\n",
              "      <td>Нет, не болел</td>\n",
              "      <td>Не хожу в библиотеку</td>\n",
              "      <td>Интроверт</td>\n",
              "      <td>Нет</td>\n",
              "      <td>Да</td>\n",
              "      <td>Нет</td>\n",
              "      <td>Да, вне физры</td>\n",
              "      <td>Бесплатно, получаю стипендию</td>\n",
              "      <td>Не пересдавал(а)</td>\n",
              "      <td>Нет(</td>\n",
              "    </tr>\n",
              "    <tr>\n",
              "      <th>3</th>\n",
              "      <td>2021/11/26 12:22:31 PM GMT+3</td>\n",
              "      <td>Женский</td>\n",
              "      <td>ФПМИ</td>\n",
              "      <td>5.1 - 7.0</td>\n",
              "      <td>Могу посидеть и 3, и 4</td>\n",
              "      <td>Весы</td>\n",
              "      <td>Раз в месяц</td>\n",
              "      <td>Не курю</td>\n",
              "      <td>Пью 1-3 раза в неделю</td>\n",
              "      <td>Нет</td>\n",
              "      <td>Хожу на все пары</td>\n",
              "      <td>7-8 часов в сутки</td>\n",
              "      <td>Да</td>\n",
              "      <td>Да</td>\n",
              "      <td>Нет, не болел</td>\n",
              "      <td>Редко, 1-2 раза в месяц</td>\n",
              "      <td>Амбиверт</td>\n",
              "      <td>Нет</td>\n",
              "      <td>Да</td>\n",
              "      <td>Нет</td>\n",
              "      <td>Да, но только на физре</td>\n",
              "      <td>Бесплатно, получаю стипендию</td>\n",
              "      <td>Не пересдавал(а)</td>\n",
              "      <td>Да, на всю страну такой один</td>\n",
              "    </tr>\n",
              "    <tr>\n",
              "      <th>4</th>\n",
              "      <td>2021/11/26 12:22:53 PM GMT+3</td>\n",
              "      <td>Мужской</td>\n",
              "      <td>ФПМИ</td>\n",
              "      <td>8.1 - 9.0</td>\n",
              "      <td>Ботаю ол дэй лонг</td>\n",
              "      <td>Овен</td>\n",
              "      <td>Раз в неделю</td>\n",
              "      <td>Реже, чем раз в день</td>\n",
              "      <td>Пью реже, чем раз в две недели</td>\n",
              "      <td>Да, по специальности</td>\n",
              "      <td>Пропускаю &gt;70% пар в неделю</td>\n",
              "      <td>7-8 часов в сутки</td>\n",
              "      <td>Нет</td>\n",
              "      <td>Нет</td>\n",
              "      <td>Нет, не болел</td>\n",
              "      <td>Не хожу в библиотеку</td>\n",
              "      <td>Экстраверт</td>\n",
              "      <td>Нет</td>\n",
              "      <td>Да</td>\n",
              "      <td>Да</td>\n",
              "      <td>Да, вне физры</td>\n",
              "      <td>Бесплатно, получаю стипендию</td>\n",
              "      <td>Не пересдавал(а)</td>\n",
              "      <td>Нет(</td>\n",
              "    </tr>\n",
              "    <tr>\n",
              "      <th>...</th>\n",
              "      <td>...</td>\n",
              "      <td>...</td>\n",
              "      <td>...</td>\n",
              "      <td>...</td>\n",
              "      <td>...</td>\n",
              "      <td>...</td>\n",
              "      <td>...</td>\n",
              "      <td>...</td>\n",
              "      <td>...</td>\n",
              "      <td>...</td>\n",
              "      <td>...</td>\n",
              "      <td>...</td>\n",
              "      <td>...</td>\n",
              "      <td>...</td>\n",
              "      <td>...</td>\n",
              "      <td>...</td>\n",
              "      <td>...</td>\n",
              "      <td>...</td>\n",
              "      <td>...</td>\n",
              "      <td>...</td>\n",
              "      <td>...</td>\n",
              "      <td>...</td>\n",
              "      <td>...</td>\n",
              "      <td>...</td>\n",
              "    </tr>\n",
              "    <tr>\n",
              "      <th>229</th>\n",
              "      <td>2021/12/05 12:48:57 AM GMT+3</td>\n",
              "      <td>Мужской</td>\n",
              "      <td>ММФ</td>\n",
              "      <td>7.1 - 8.0</td>\n",
              "      <td>Ботаю ол дэй лонг</td>\n",
              "      <td>Лев</td>\n",
              "      <td>Раз в месяц</td>\n",
              "      <td>Больше, чем 3 раза в день</td>\n",
              "      <td>Пью реже, чем раз в две недели</td>\n",
              "      <td>Нет</td>\n",
              "      <td>Пропускаю &lt;50% пар в неделю</td>\n",
              "      <td>4-6 часов в сутки</td>\n",
              "      <td>Да</td>\n",
              "      <td>Да</td>\n",
              "      <td>Да, во время студенчества</td>\n",
              "      <td>Не хожу в библиотеку</td>\n",
              "      <td>Экстраверт</td>\n",
              "      <td>Да</td>\n",
              "      <td>Да</td>\n",
              "      <td>Да</td>\n",
              "      <td>Да, но только на физре</td>\n",
              "      <td>Бесплатно, получаю стипендию</td>\n",
              "      <td>Не пересдавал(а)</td>\n",
              "      <td>Нет(</td>\n",
              "    </tr>\n",
              "    <tr>\n",
              "      <th>230</th>\n",
              "      <td>2021/12/05 1:45:07 PM GMT+3</td>\n",
              "      <td>Женский</td>\n",
              "      <td>ММФ</td>\n",
              "      <td>7.1 - 8.0</td>\n",
              "      <td>Могу посидеть и 3, и 4</td>\n",
              "      <td>Овен</td>\n",
              "      <td>Не пью</td>\n",
              "      <td>Больше, чем 3 раза в день</td>\n",
              "      <td>Пью почти каждый день</td>\n",
              "      <td>Да, не по специальности</td>\n",
              "      <td>Пропускаю &lt;25% пар в неделю</td>\n",
              "      <td>4-6 часов в сутки</td>\n",
              "      <td>Нет</td>\n",
              "      <td>Да</td>\n",
              "      <td>Да, до поступления</td>\n",
              "      <td>Не хожу в библиотеку</td>\n",
              "      <td>Амбиверт</td>\n",
              "      <td>Нет</td>\n",
              "      <td>Да</td>\n",
              "      <td>Да</td>\n",
              "      <td>Да, вне физры</td>\n",
              "      <td>Бесплатно, получаю стипендию</td>\n",
              "      <td>Не пересдавал(а)</td>\n",
              "      <td>Нет(</td>\n",
              "    </tr>\n",
              "    <tr>\n",
              "      <th>231</th>\n",
              "      <td>2021/12/05 8:54:15 PM GMT+3</td>\n",
              "      <td>Женский</td>\n",
              "      <td>ММФ</td>\n",
              "      <td>8.1 - 9.0</td>\n",
              "      <td>Максимум 2 часа</td>\n",
              "      <td>Скорпион</td>\n",
              "      <td>Раз в месяц</td>\n",
              "      <td>Не курю</td>\n",
              "      <td>Пью почти каждый день</td>\n",
              "      <td>Да, не по специальности</td>\n",
              "      <td>Хожу на все пары</td>\n",
              "      <td>7-8 часов в сутки</td>\n",
              "      <td>Да</td>\n",
              "      <td>Да</td>\n",
              "      <td>Нет, не болел</td>\n",
              "      <td>Не хожу в библиотеку</td>\n",
              "      <td>Амбиверт</td>\n",
              "      <td>Нет</td>\n",
              "      <td>Да</td>\n",
              "      <td>Нет</td>\n",
              "      <td>Да, но только на физре</td>\n",
              "      <td>Бесплатно, получаю стипендию</td>\n",
              "      <td>Не пересдавал(а)</td>\n",
              "      <td>Нет(</td>\n",
              "    </tr>\n",
              "    <tr>\n",
              "      <th>232</th>\n",
              "      <td>2021/12/06 3:36:11 AM GMT+3</td>\n",
              "      <td>Мужской</td>\n",
              "      <td>ММФ</td>\n",
              "      <td>5.1 - 7.0</td>\n",
              "      <td>Максимум 2 часа</td>\n",
              "      <td>Козерог</td>\n",
              "      <td>Раз в неделю</td>\n",
              "      <td>Реже, чем раз в день</td>\n",
              "      <td>Пью почти каждый день</td>\n",
              "      <td>Да, не по специальности</td>\n",
              "      <td>Пропускаю &lt;50% пар в неделю</td>\n",
              "      <td>4-6 часов в сутки</td>\n",
              "      <td>Да</td>\n",
              "      <td>Нет</td>\n",
              "      <td>Да, во время студенчества</td>\n",
              "      <td>Не хожу в библиотеку</td>\n",
              "      <td>Интроверт</td>\n",
              "      <td>Да</td>\n",
              "      <td>Да</td>\n",
              "      <td>Да</td>\n",
              "      <td>Нет</td>\n",
              "      <td>Бесплатно, потерял стипендию</td>\n",
              "      <td>Больше 5 пересдач</td>\n",
              "      <td>Нет(</td>\n",
              "    </tr>\n",
              "    <tr>\n",
              "      <th>233</th>\n",
              "      <td>2021/12/06 8:19:00 AM GMT+3</td>\n",
              "      <td>Женский</td>\n",
              "      <td>ММФ</td>\n",
              "      <td>8.1 - 9.0</td>\n",
              "      <td>Могу посидеть и 3, и 4</td>\n",
              "      <td>Козерог</td>\n",
              "      <td>Раз в месяц</td>\n",
              "      <td>Не курю</td>\n",
              "      <td>Пью 1-3 раза в неделю</td>\n",
              "      <td>Нет</td>\n",
              "      <td>Хожу на все пары</td>\n",
              "      <td>7-8 часов в сутки</td>\n",
              "      <td>Нет</td>\n",
              "      <td>Нет</td>\n",
              "      <td>Нет, не болел</td>\n",
              "      <td>Редко, 1-2 раза в месяц</td>\n",
              "      <td>Интроверт</td>\n",
              "      <td>Нет</td>\n",
              "      <td>Нет</td>\n",
              "      <td>Нет</td>\n",
              "      <td>Да, но только на физре</td>\n",
              "      <td>Бесплатно, получаю стипендию</td>\n",
              "      <td>Не пересдавал(а)</td>\n",
              "      <td>Нет(</td>\n",
              "    </tr>\n",
              "  </tbody>\n",
              "</table>\n",
              "<p>234 rows × 24 columns</p>\n",
              "</div>"
            ],
            "text/plain": [
              "                  Отметка времени  ...        Вы натуральный блондин\n",
              "0    2021/11/26 12:21:04 PM GMT+3  ...                          Нет(\n",
              "1    2021/11/26 12:21:41 PM GMT+3  ...                          Нет(\n",
              "2    2021/11/26 12:21:57 PM GMT+3  ...                          Нет(\n",
              "3    2021/11/26 12:22:31 PM GMT+3  ...  Да, на всю страну такой один\n",
              "4    2021/11/26 12:22:53 PM GMT+3  ...                          Нет(\n",
              "..                            ...  ...                           ...\n",
              "229  2021/12/05 12:48:57 AM GMT+3  ...                          Нет(\n",
              "230   2021/12/05 1:45:07 PM GMT+3  ...                          Нет(\n",
              "231   2021/12/05 8:54:15 PM GMT+3  ...                          Нет(\n",
              "232   2021/12/06 3:36:11 AM GMT+3  ...                          Нет(\n",
              "233   2021/12/06 8:19:00 AM GMT+3  ...                          Нет(\n",
              "\n",
              "[234 rows x 24 columns]"
            ]
          },
          "metadata": {},
          "execution_count": 3
        }
      ]
    },
    {
      "cell_type": "markdown",
      "metadata": {
        "id": "SykXzDbs66KT"
      },
      "source": [
        "#Чистим датасет"
      ]
    },
    {
      "cell_type": "markdown",
      "metadata": {
        "id": "UN99D_wJ7C7Q"
      },
      "source": [
        "Переименуем колонки для более компактного кода"
      ]
    },
    {
      "cell_type": "code",
      "metadata": {
        "id": "t9Wsfk4gxeQl"
      },
      "source": [
        "data_frame.rename(columns = {'Отметка времени':'time', \\\n",
        "                             'Ваш пол':'gender', \\\n",
        "                             'Ваш факультет': 'faculty',\\\n",
        "                             'Ваш средний балл': 'average_grade',\n",
        "                             'Сколько времени в среднем в день Вы уделяете учебе (домашние работы, лабораторные)':'study_time',\\\n",
        "                             'Ваш знак зодиака': 'zodiac_sign',\\\n",
        "                             'Как часто Вы пьёте алкоголь?': 'alcohol',\\\n",
        "                             'Как часто Вы курите (сигареты/вейп/кальян)?': 'smoke',\\\n",
        "                             'Как часто Вы пьёте кофе/энергетики?': 'coffee',\\\n",
        "                             'Работаете ли Вы на данный момент?': 'work', \\\n",
        "                             'Как часто Вы посещаете пары?': 'attendance', \\\n",
        "                             'Сколько Вы спите в будний день?': 'sleep',\\\n",
        "                             'Были ли у Вас серьёзные мысли об отчислении?':'expulsion', \\\n",
        "                             'Были ли у Вас мысли о суициде, была ли депрессия?': 'depression',\n",
        "                             'Болели ли Вы Covid-19?': 'covid19',\n",
        "                             'Как часто Вы ходите в библиотеку?': 'library_attendance',\\\n",
        "                             'Кем Вы себя считаете?': 'person_type', \\\n",
        "                             'Состоите ли Вы в Студенческом союзе или похожих организациях?': 'student_union', \\\n",
        "                             'Есть ли у Вас хобби вне университета?': 'hobby',\\\n",
        "                             'Есть ли у Вас отношения?': 'relationship',\\\n",
        "                             'Занимаетесь ли Вы спортом?': 'sport',\\\n",
        "                             'Вы учитесь на платной или бесплатной основе?': 'education_type', \\\n",
        "                             'Количество пересдач за всё время обучения': 'failed_exams',\n",
        "                             'Вы натуральный блондин': 'blond'},\\\n",
        "                             inplace=True)\n"
      ],
      "execution_count": null,
      "outputs": []
    },
    {
      "cell_type": "markdown",
      "metadata": {
        "id": "ZxXsv3jq7KSv"
      },
      "source": [
        "Удалим столбец с временем заполнения формы, он нас не интересует:"
      ]
    },
    {
      "cell_type": "code",
      "metadata": {
        "id": "K6mJeCTv7JL2"
      },
      "source": [
        "data_frame = data_frame.drop('time', axis = 1)"
      ],
      "execution_count": null,
      "outputs": []
    },
    {
      "cell_type": "markdown",
      "metadata": {
        "id": "XnhrH1oRFKPC"
      },
      "source": [
        "В некотрых столбцах заменим данные типа Да/Нет на True/False. Помимо этого для столбца `covid19` в опросе уточнялось, когда именно вы болели: до поступления или во время вашего студенчества. Мы решаем, что нам важнее просто информация о том, болел ли человек, поэтому заменяем оба этих варианта на True."
      ]
    },
    {
      "cell_type": "code",
      "metadata": {
        "id": "JY10Uas47WfE"
      },
      "source": [
        "data_frame[['covid19', 'expulsion', 'depression', 'student_union', 'relationship', 'hobby', 'blond']] = data_frame[['covid19', 'expulsion', 'depression', 'student_union', 'relationship', 'hobby', \n",
        "                                                                                                        'blond']].replace(['Да, во время студенчества', 'Да, до поступления', 'Да', \n",
        "                                                                                                                           'Да, на всю страну такой один'], True)\n",
        "data_frame[['covid19', 'expulsion', 'depression', 'student_union', 'relationship', 'hobby', 'blond']] = data_frame[['covid19', 'expulsion', 'depression', 'student_union', 'relationship', 'hobby', \n",
        "                                                                                                        'blond']].replace(['Нет, не болел', 'Нет', 'Нет('], False)"
      ],
      "execution_count": null,
      "outputs": []
    },
    {
      "cell_type": "markdown",
      "metadata": {
        "id": "sfBeMUAWwqQl"
      },
      "source": [
        "В колонке `gender` помимо вариантов ответа \"мужской\", \"женский\", мы получили несколько неопределенных вариантов, которые для нас равносильны `Nan`. Просто выкинуть их из датасета мы не можем, так как нам важна остальная информация в этих строчках."
      ]
    },
    {
      "cell_type": "code",
      "metadata": {
        "colab": {
          "base_uri": "https://localhost:8080/"
        },
        "id": "3bg5I8AoxdxA",
        "outputId": "f6d48f80-caaf-49a7-e697-ace5128e2c19"
      },
      "source": [
        "data_frame.gender"
      ],
      "execution_count": null,
      "outputs": [
        {
          "output_type": "execute_result",
          "data": {
            "text/plain": [
              "0      Предпочитаю не говорить (подаюсь в гугл)\n",
              "1      Предпочитаю не говорить (подаюсь в гугл)\n",
              "2                                       Мужской\n",
              "3                                       Женский\n",
              "4                                       Мужской\n",
              "                         ...                   \n",
              "229                                     Мужской\n",
              "230                                     Женский\n",
              "231                                     Женский\n",
              "232                                     Мужской\n",
              "233                                     Женский\n",
              "Name: gender, Length: 234, dtype: object"
            ]
          },
          "metadata": {},
          "execution_count": 7
        }
      ]
    },
    {
      "cell_type": "markdown",
      "metadata": {
        "id": "zrLmh6_HxgJb"
      },
      "source": [
        "Так как корректных данных в колонке гораздо больше, мы решили невалидные данные заменить в том же процентном отношении, в котором сейчас находятся ответы Мужской / Женский."
      ]
    },
    {
      "cell_type": "code",
      "metadata": {
        "id": "tuO2VapIZulw"
      },
      "source": [
        "data_frame['gender'].replace(['Мужской'], 'm', inplace = True)\n",
        "data_frame['gender'].replace(['Женский'], 'f', inplace = True)\n",
        "gender = data_frame.loc[:, 'gender']\n",
        "gender = DataFrame(gender.value_counts())\n",
        "\n",
        "num_of_men = gender.loc['m']\n",
        "num_of_women = gender.loc['f']\n",
        "percent_of_men = num_of_men / (num_of_women + num_of_men)\n",
        "num_of_men = int(gender.loc['Предпочитаю не говорить (подаюсь в гугл)'] * percent_of_men) \n",
        "num_of_women = int(gender.loc['Предпочитаю не говорить (подаюсь в гугл)'] - num_of_men)"
      ],
      "execution_count": null,
      "outputs": []
    },
    {
      "cell_type": "code",
      "metadata": {
        "colab": {
          "base_uri": "https://localhost:8080/"
        },
        "id": "qtqSoMLIyF-b",
        "outputId": "70b59523-ac58-41a7-bc07-b487fada876f"
      },
      "source": [
        "data_frame.gender.replace(['Предпочитаю не говорить (подаюсь в гугл)'], np.nan, inplace = True)\n",
        "print('Уникальные поля до замены ', data_frame.gender.unique())\n",
        "data_frame.gender.fillna('m', limit = num_of_men, inplace = True)\n",
        "print('Уникальные поля после замены части Nan-ов ', data_frame.gender.unique())\n",
        "data_frame.gender.fillna('f', limit = num_of_women, inplace = True)\n",
        "print('Уникальные поля после замены всех некорректных данных ', data_frame.gender.unique())"
      ],
      "execution_count": null,
      "outputs": [
        {
          "output_type": "stream",
          "name": "stdout",
          "text": [
            "Уникальные поля до замены  [nan 'm' 'f']\n",
            "Уникальные поля после замены части Nan-ов  ['m' 'f' nan]\n",
            "Уникальные поля после замены всех некорректных данных  ['m' 'f']\n"
          ]
        }
      ]
    },
    {
      "cell_type": "markdown",
      "metadata": {
        "id": "JsxzQwZ-GZJa"
      },
      "source": [
        "Рассмотри колонку `faculty`. Из графика видно, что получилось неоднородная выборка по факультетам университета. Поэтому в дальнейшем учитывать принадлежность к факультету мы не будем."
      ]
    },
    {
      "cell_type": "code",
      "metadata": {
        "id": "-PFS5z4H5bLo",
        "colab": {
          "base_uri": "https://localhost:8080/",
          "height": 339
        },
        "outputId": "a1633445-7d26-4ce0-a751-ef11a0b65b31"
      },
      "source": [
        "plt.figure(figsize=(16, 5))\n",
        "unique_faculty = data_frame.faculty.value_counts()\n",
        "plt.xticks(np.arange(unique_faculty.index.size), unique_faculty.index)\n",
        "plt.bar(range(data_frame.faculty.unique().size), data_frame.faculty.value_counts())"
      ],
      "execution_count": null,
      "outputs": [
        {
          "output_type": "execute_result",
          "data": {
            "text/plain": [
              "<BarContainer object of 15 artists>"
            ]
          },
          "metadata": {},
          "execution_count": 10
        },
        {
          "output_type": "display_data",
          "data": {
            "image/png": "[encoded data removed]",
            "text/plain": [
              "<Figure size 1152x360 with 1 Axes>"
            ]
          },
          "metadata": {
            "needs_background": "light"
          }
        }
      ]
    },
    {
      "cell_type": "code",
      "metadata": {
        "id": "j9-Nz8uL5ANh",
        "colab": {
          "base_uri": "https://localhost:8080/",
          "height": 1000
        },
        "outputId": "2977e11f-d7fa-47be-9540-801cc30ebe3e"
      },
      "source": [
        "data_frame"
      ],
      "execution_count": null,
      "outputs": [
        {
          "output_type": "execute_result",
          "data": {
            "text/html": [
              "<div>\n",
              "<style scoped>\n",
              "    .dataframe tbody tr th:only-of-type {\n",
              "        vertical-align: middle;\n",
              "    }\n",
              "\n",
              "    .dataframe tbody tr th {\n",
              "        vertical-align: top;\n",
              "    }\n",
              "\n",
              "    .dataframe thead th {\n",
              "        text-align: right;\n",
              "    }\n",
              "</style>\n",
              "<table border=\"1\" class=\"dataframe\">\n",
              "  <thead>\n",
              "    <tr style=\"text-align: right;\">\n",
              "      <th></th>\n",
              "      <th>gender</th>\n",
              "      <th>faculty</th>\n",
              "      <th>average_grade</th>\n",
              "      <th>study_time</th>\n",
              "      <th>zodiac_sign</th>\n",
              "      <th>alcohol</th>\n",
              "      <th>smoke</th>\n",
              "      <th>coffee</th>\n",
              "      <th>work</th>\n",
              "      <th>attendance</th>\n",
              "      <th>sleep</th>\n",
              "      <th>expulsion</th>\n",
              "      <th>depression</th>\n",
              "      <th>covid19</th>\n",
              "      <th>library_attendance</th>\n",
              "      <th>person_type</th>\n",
              "      <th>student_union</th>\n",
              "      <th>hobby</th>\n",
              "      <th>relationship</th>\n",
              "      <th>sport</th>\n",
              "      <th>education_type</th>\n",
              "      <th>failed_exams</th>\n",
              "      <th>blond</th>\n",
              "    </tr>\n",
              "  </thead>\n",
              "  <tbody>\n",
              "    <tr>\n",
              "      <th>0</th>\n",
              "      <td>m</td>\n",
              "      <td>ФПМИ</td>\n",
              "      <td>5.1 - 7.0</td>\n",
              "      <td>Могу посидеть и 3, и 4</td>\n",
              "      <td>Рыбы</td>\n",
              "      <td>Не пью</td>\n",
              "      <td>Не курю</td>\n",
              "      <td>Не пью</td>\n",
              "      <td>Нет</td>\n",
              "      <td>Пропускаю &lt;25% пар в неделю</td>\n",
              "      <td>7-8 часов в сутки</td>\n",
              "      <td>True</td>\n",
              "      <td>False</td>\n",
              "      <td>True</td>\n",
              "      <td>Не хожу в библиотеку</td>\n",
              "      <td>Интроверт</td>\n",
              "      <td>False</td>\n",
              "      <td>True</td>\n",
              "      <td>True</td>\n",
              "      <td>Да, но только на физре</td>\n",
              "      <td>Бесплатно, потерял стипендию</td>\n",
              "      <td>1-5 пересдач</td>\n",
              "      <td>False</td>\n",
              "    </tr>\n",
              "    <tr>\n",
              "      <th>1</th>\n",
              "      <td>m</td>\n",
              "      <td>ФПМИ</td>\n",
              "      <td>5.1 - 7.0</td>\n",
              "      <td>Максимум 2 часа</td>\n",
              "      <td>Дева</td>\n",
              "      <td>Раз в месяц</td>\n",
              "      <td>Не курю</td>\n",
              "      <td>Пью почти каждый день</td>\n",
              "      <td>Нет</td>\n",
              "      <td>Пропускаю &lt;25% пар в неделю</td>\n",
              "      <td>4-6 часов в сутки</td>\n",
              "      <td>True</td>\n",
              "      <td>True</td>\n",
              "      <td>True</td>\n",
              "      <td>Не хожу в библиотеку</td>\n",
              "      <td>Интроверт</td>\n",
              "      <td>False</td>\n",
              "      <td>True</td>\n",
              "      <td>True</td>\n",
              "      <td>Да, но только на физре</td>\n",
              "      <td>Платно</td>\n",
              "      <td>1-5 пересдач</td>\n",
              "      <td>False</td>\n",
              "    </tr>\n",
              "    <tr>\n",
              "      <th>2</th>\n",
              "      <td>m</td>\n",
              "      <td>ФПМИ</td>\n",
              "      <td>7.1 - 8.0</td>\n",
              "      <td>Могу посидеть и 3, и 4</td>\n",
              "      <td>Козерог</td>\n",
              "      <td>Не пью</td>\n",
              "      <td>Не курю</td>\n",
              "      <td>Пью реже, чем раз в две недели</td>\n",
              "      <td>Да, по специальности</td>\n",
              "      <td>Хожу на все пары</td>\n",
              "      <td>7-8 часов в сутки</td>\n",
              "      <td>False</td>\n",
              "      <td>False</td>\n",
              "      <td>False</td>\n",
              "      <td>Не хожу в библиотеку</td>\n",
              "      <td>Интроверт</td>\n",
              "      <td>False</td>\n",
              "      <td>True</td>\n",
              "      <td>False</td>\n",
              "      <td>Да, вне физры</td>\n",
              "      <td>Бесплатно, получаю стипендию</td>\n",
              "      <td>Не пересдавал(а)</td>\n",
              "      <td>False</td>\n",
              "    </tr>\n",
              "    <tr>\n",
              "      <th>3</th>\n",
              "      <td>f</td>\n",
              "      <td>ФПМИ</td>\n",
              "      <td>5.1 - 7.0</td>\n",
              "      <td>Могу посидеть и 3, и 4</td>\n",
              "      <td>Весы</td>\n",
              "      <td>Раз в месяц</td>\n",
              "      <td>Не курю</td>\n",
              "      <td>Пью 1-3 раза в неделю</td>\n",
              "      <td>Нет</td>\n",
              "      <td>Хожу на все пары</td>\n",
              "      <td>7-8 часов в сутки</td>\n",
              "      <td>True</td>\n",
              "      <td>True</td>\n",
              "      <td>False</td>\n",
              "      <td>Редко, 1-2 раза в месяц</td>\n",
              "      <td>Амбиверт</td>\n",
              "      <td>False</td>\n",
              "      <td>True</td>\n",
              "      <td>False</td>\n",
              "      <td>Да, но только на физре</td>\n",
              "      <td>Бесплатно, получаю стипендию</td>\n",
              "      <td>Не пересдавал(а)</td>\n",
              "      <td>True</td>\n",
              "    </tr>\n",
              "    <tr>\n",
              "      <th>4</th>\n",
              "      <td>m</td>\n",
              "      <td>ФПМИ</td>\n",
              "      <td>8.1 - 9.0</td>\n",
              "      <td>Ботаю ол дэй лонг</td>\n",
              "      <td>Овен</td>\n",
              "      <td>Раз в неделю</td>\n",
              "      <td>Реже, чем раз в день</td>\n",
              "      <td>Пью реже, чем раз в две недели</td>\n",
              "      <td>Да, по специальности</td>\n",
              "      <td>Пропускаю &gt;70% пар в неделю</td>\n",
              "      <td>7-8 часов в сутки</td>\n",
              "      <td>False</td>\n",
              "      <td>False</td>\n",
              "      <td>False</td>\n",
              "      <td>Не хожу в библиотеку</td>\n",
              "      <td>Экстраверт</td>\n",
              "      <td>False</td>\n",
              "      <td>True</td>\n",
              "      <td>True</td>\n",
              "      <td>Да, вне физры</td>\n",
              "      <td>Бесплатно, получаю стипендию</td>\n",
              "      <td>Не пересдавал(а)</td>\n",
              "      <td>False</td>\n",
              "    </tr>\n",
              "    <tr>\n",
              "      <th>...</th>\n",
              "      <td>...</td>\n",
              "      <td>...</td>\n",
              "      <td>...</td>\n",
              "      <td>...</td>\n",
              "      <td>...</td>\n",
              "      <td>...</td>\n",
              "      <td>...</td>\n",
              "      <td>...</td>\n",
              "      <td>...</td>\n",
              "      <td>...</td>\n",
              "      <td>...</td>\n",
              "      <td>...</td>\n",
              "      <td>...</td>\n",
              "      <td>...</td>\n",
              "      <td>...</td>\n",
              "      <td>...</td>\n",
              "      <td>...</td>\n",
              "      <td>...</td>\n",
              "      <td>...</td>\n",
              "      <td>...</td>\n",
              "      <td>...</td>\n",
              "      <td>...</td>\n",
              "      <td>...</td>\n",
              "    </tr>\n",
              "    <tr>\n",
              "      <th>229</th>\n",
              "      <td>m</td>\n",
              "      <td>ММФ</td>\n",
              "      <td>7.1 - 8.0</td>\n",
              "      <td>Ботаю ол дэй лонг</td>\n",
              "      <td>Лев</td>\n",
              "      <td>Раз в месяц</td>\n",
              "      <td>Больше, чем 3 раза в день</td>\n",
              "      <td>Пью реже, чем раз в две недели</td>\n",
              "      <td>Нет</td>\n",
              "      <td>Пропускаю &lt;50% пар в неделю</td>\n",
              "      <td>4-6 часов в сутки</td>\n",
              "      <td>True</td>\n",
              "      <td>True</td>\n",
              "      <td>True</td>\n",
              "      <td>Не хожу в библиотеку</td>\n",
              "      <td>Экстраверт</td>\n",
              "      <td>True</td>\n",
              "      <td>True</td>\n",
              "      <td>True</td>\n",
              "      <td>Да, но только на физре</td>\n",
              "      <td>Бесплатно, получаю стипендию</td>\n",
              "      <td>Не пересдавал(а)</td>\n",
              "      <td>False</td>\n",
              "    </tr>\n",
              "    <tr>\n",
              "      <th>230</th>\n",
              "      <td>f</td>\n",
              "      <td>ММФ</td>\n",
              "      <td>7.1 - 8.0</td>\n",
              "      <td>Могу посидеть и 3, и 4</td>\n",
              "      <td>Овен</td>\n",
              "      <td>Не пью</td>\n",
              "      <td>Больше, чем 3 раза в день</td>\n",
              "      <td>Пью почти каждый день</td>\n",
              "      <td>Да, не по специальности</td>\n",
              "      <td>Пропускаю &lt;25% пар в неделю</td>\n",
              "      <td>4-6 часов в сутки</td>\n",
              "      <td>False</td>\n",
              "      <td>True</td>\n",
              "      <td>True</td>\n",
              "      <td>Не хожу в библиотеку</td>\n",
              "      <td>Амбиверт</td>\n",
              "      <td>False</td>\n",
              "      <td>True</td>\n",
              "      <td>True</td>\n",
              "      <td>Да, вне физры</td>\n",
              "      <td>Бесплатно, получаю стипендию</td>\n",
              "      <td>Не пересдавал(а)</td>\n",
              "      <td>False</td>\n",
              "    </tr>\n",
              "    <tr>\n",
              "      <th>231</th>\n",
              "      <td>f</td>\n",
              "      <td>ММФ</td>\n",
              "      <td>8.1 - 9.0</td>\n",
              "      <td>Максимум 2 часа</td>\n",
              "      <td>Скорпион</td>\n",
              "      <td>Раз в месяц</td>\n",
              "      <td>Не курю</td>\n",
              "      <td>Пью почти каждый день</td>\n",
              "      <td>Да, не по специальности</td>\n",
              "      <td>Хожу на все пары</td>\n",
              "      <td>7-8 часов в сутки</td>\n",
              "      <td>True</td>\n",
              "      <td>True</td>\n",
              "      <td>False</td>\n",
              "      <td>Не хожу в библиотеку</td>\n",
              "      <td>Амбиверт</td>\n",
              "      <td>False</td>\n",
              "      <td>True</td>\n",
              "      <td>False</td>\n",
              "      <td>Да, но только на физре</td>\n",
              "      <td>Бесплатно, получаю стипендию</td>\n",
              "      <td>Не пересдавал(а)</td>\n",
              "      <td>False</td>\n",
              "    </tr>\n",
              "    <tr>\n",
              "      <th>232</th>\n",
              "      <td>m</td>\n",
              "      <td>ММФ</td>\n",
              "      <td>5.1 - 7.0</td>\n",
              "      <td>Максимум 2 часа</td>\n",
              "      <td>Козерог</td>\n",
              "      <td>Раз в неделю</td>\n",
              "      <td>Реже, чем раз в день</td>\n",
              "      <td>Пью почти каждый день</td>\n",
              "      <td>Да, не по специальности</td>\n",
              "      <td>Пропускаю &lt;50% пар в неделю</td>\n",
              "      <td>4-6 часов в сутки</td>\n",
              "      <td>True</td>\n",
              "      <td>False</td>\n",
              "      <td>True</td>\n",
              "      <td>Не хожу в библиотеку</td>\n",
              "      <td>Интроверт</td>\n",
              "      <td>True</td>\n",
              "      <td>True</td>\n",
              "      <td>True</td>\n",
              "      <td>Нет</td>\n",
              "      <td>Бесплатно, потерял стипендию</td>\n",
              "      <td>Больше 5 пересдач</td>\n",
              "      <td>False</td>\n",
              "    </tr>\n",
              "    <tr>\n",
              "      <th>233</th>\n",
              "      <td>f</td>\n",
              "      <td>ММФ</td>\n",
              "      <td>8.1 - 9.0</td>\n",
              "      <td>Могу посидеть и 3, и 4</td>\n",
              "      <td>Козерог</td>\n",
              "      <td>Раз в месяц</td>\n",
              "      <td>Не курю</td>\n",
              "      <td>Пью 1-3 раза в неделю</td>\n",
              "      <td>Нет</td>\n",
              "      <td>Хожу на все пары</td>\n",
              "      <td>7-8 часов в сутки</td>\n",
              "      <td>False</td>\n",
              "      <td>False</td>\n",
              "      <td>False</td>\n",
              "      <td>Редко, 1-2 раза в месяц</td>\n",
              "      <td>Интроверт</td>\n",
              "      <td>False</td>\n",
              "      <td>False</td>\n",
              "      <td>False</td>\n",
              "      <td>Да, но только на физре</td>\n",
              "      <td>Бесплатно, получаю стипендию</td>\n",
              "      <td>Не пересдавал(а)</td>\n",
              "      <td>False</td>\n",
              "    </tr>\n",
              "  </tbody>\n",
              "</table>\n",
              "<p>234 rows × 23 columns</p>\n",
              "</div>"
            ],
            "text/plain": [
              "    gender faculty  ...       failed_exams  blond\n",
              "0        m    ФПМИ  ...       1-5 пересдач  False\n",
              "1        m    ФПМИ  ...       1-5 пересдач  False\n",
              "2        m    ФПМИ  ...   Не пересдавал(а)  False\n",
              "3        f    ФПМИ  ...   Не пересдавал(а)   True\n",
              "4        m    ФПМИ  ...   Не пересдавал(а)  False\n",
              "..     ...     ...  ...                ...    ...\n",
              "229      m     ММФ  ...   Не пересдавал(а)  False\n",
              "230      f     ММФ  ...   Не пересдавал(а)  False\n",
              "231      f     ММФ  ...   Не пересдавал(а)  False\n",
              "232      m     ММФ  ...  Больше 5 пересдач  False\n",
              "233      f     ММФ  ...   Не пересдавал(а)  False\n",
              "\n",
              "[234 rows x 23 columns]"
            ]
          },
          "metadata": {},
          "execution_count": 11
        }
      ]
    },
    {
      "cell_type": "markdown",
      "source": [
        "# Исследование эмоционального состояния студентов от успеваемости"
      ],
      "metadata": {
        "id": "62Z9iGpu_UoS"
      }
    },
    {
      "cell_type": "markdown",
      "source": [
        "Немного общей статистики:"
      ],
      "metadata": {
        "id": "U_S0gAKMaxi3"
      }
    },
    {
      "cell_type": "code",
      "source": [
        "drop_out = data_frame.expulsion.value_counts()\n",
        "print('Процент студентов, которые думали о том, чтобы отчислиться: ', drop_out.loc[True] / (drop_out.loc[True] + drop_out.loc[False]) * 100, '%')\n",
        "depression = data_frame.depression.value_counts()\n",
        "print('Процент студентов, у которых была депрессия или мысли о суициде: ', depression.loc[True] / (depression.loc[True] + depression.loc[False]) * 100, '%')"
      ],
      "metadata": {
        "id": "RTdACaof_U79",
        "outputId": "957f7d4e-c364-4241-c0fb-d750363e86d5",
        "colab": {
          "base_uri": "https://localhost:8080/"
        }
      },
      "execution_count": null,
      "outputs": [
        {
          "output_type": "stream",
          "name": "stdout",
          "text": [
            "Процент студентов, которые думали о том, чтобы отчислиться:  41.88034188034188 %\n",
            "Процент студентов, у которых была депрессия или мысли о суициде:  36.75213675213676 %\n"
          ]
        }
      ]
    },
    {
      "cell_type": "markdown",
      "source": [
        "Теперь найдем процент студентов, думавших об отчислении, в каждом интервале успеваемости."
      ],
      "metadata": {
        "id": "bk2h4mLPa2G4"
      }
    },
    {
      "cell_type": "code",
      "source": [
        "grades_intervals = data_frame.average_grade.unique()\n",
        "grades_intervals = np.sort(grades_intervals)\n",
        "grades_and_drop_out = {}\n",
        "df_drop_out_and_grades = data_frame.loc[:, ['average_grade', 'expulsion']].set_index('average_grade')\n",
        "for i in grades_intervals:\n",
        "  answers = df_drop_out_and_grades.loc[i].value_counts()\n",
        "  grades_and_drop_out[i] = int(answers.loc[True]) / (int(answers.loc[True]) + int(answers.loc[False])) * 100\n",
        "\n",
        "grades_and_drop_out = Series(grades_and_drop_out)"
      ],
      "metadata": {
        "id": "0pj-1My_CFhj"
      },
      "execution_count": null,
      "outputs": []
    },
    {
      "cell_type": "code",
      "source": [
        "plt.figure(figsize=(7, 5))\n",
        "plt.xticks(np.arange(grades_intervals.size), grades_intervals)\n",
        "plt.bar(range(grades_intervals.size), grades_and_drop_out)  "
      ],
      "metadata": {
        "id": "i4ItBnSYIba2",
        "outputId": "6126c32a-0bd3-4085-ea16-5614406e4a19",
        "colab": {
          "base_uri": "https://localhost:8080/",
          "height": 342
        }
      },
      "execution_count": null,
      "outputs": [
        {
          "output_type": "execute_result",
          "data": {
            "text/plain": [
              "<BarContainer object of 5 artists>"
            ]
          },
          "metadata": {},
          "execution_count": 14
        },
        {
          "output_type": "display_data",
          "data": {
            "image/png": "[encoded data removed]",
            "text/plain": [
              "<Figure size 504x360 with 1 Axes>"
            ]
          },
          "metadata": {
            "needs_background": "light"
          }
        }
      ]
    },
    {
      "cell_type": "markdown",
      "source": [
        "То же самое сделаем для студентов с депрессией."
      ],
      "metadata": {
        "id": "v6E3VbjabLKX"
      }
    },
    {
      "cell_type": "code",
      "source": [
        "grades_and_depression = {}\n",
        "df_depression_and_grades = data_frame.loc[:, ['average_grade', 'depression']].set_index('average_grade')\n",
        "for i in grades_intervals:\n",
        "  answers = df_depression_and_grades.loc[i].value_counts()\n",
        "  grades_and_depression[i] = int(answers.loc[True]) / (int(answers.loc[True]) + int(answers.loc[False])) * 100\n",
        "\n",
        "grades_and_depression = Series(grades_and_depression)"
      ],
      "metadata": {
        "id": "yzkBBjNTMgLg"
      },
      "execution_count": null,
      "outputs": []
    },
    {
      "cell_type": "code",
      "source": [
        "plt.figure(figsize=(7, 5))\n",
        "plt.xticks(np.arange(grades_intervals.size), grades_intervals)\n",
        "plt.bar(range(grades_intervals.size), grades_and_depression)  "
      ],
      "metadata": {
        "id": "z4_ME6M-MgXt",
        "outputId": "6cebcc51-11bc-4d1f-def5-65a178ef7c82",
        "colab": {
          "base_uri": "https://localhost:8080/",
          "height": 338
        }
      },
      "execution_count": null,
      "outputs": [
        {
          "output_type": "execute_result",
          "data": {
            "text/plain": [
              "<BarContainer object of 5 artists>"
            ]
          },
          "metadata": {},
          "execution_count": 16
        },
        {
          "output_type": "display_data",
          "data": {
            "image/png": "[encoded data removed]",
            "text/plain": [
              "<Figure size 504x360 with 1 Axes>"
            ]
          },
          "metadata": {
            "needs_background": "light"
          }
        }
      ]
    },
    {
      "cell_type": "markdown",
      "source": [
        "Из полученных графиков видим, что количество студентов с депрессией и студентов, думавших об отчислении, обратно зависит от их среднего балла. \n",
        "\n",
        "Интересно, что для обоих графиков характерно увеличение процента студентов для интервала [9.1 - 10.0]."
      ],
      "metadata": {
        "id": "HVNr_o2sbm6F"
      }
    },
    {
      "cell_type": "markdown",
      "source": [
        "Чтобы подтвердить наличие этой обратной зависимости, найдем коэффициент корреляции Пирсона. \n",
        "Для этого закодируем интервалы успеваемости по возрастанию как числа от 0 до 4."
      ],
      "metadata": {
        "id": "IrmUoPDNdF3A"
      }
    },
    {
      "cell_type": "code",
      "source": [
        "from scipy import stats\n",
        "\n",
        "encoded_intervals = np.array([])\n",
        "j = 0\n",
        "for i in grades_intervals:\n",
        "  encoded_intervals = np.append(encoded_intervals, [(float(i.split(' - ')[0]) + float(i.split(' - ')[1])) / 2])\n",
        "\n",
        "print('Коэффициент корреляции Пирсона между интервалом успеваемости и процентом студентов, думавших об отчислении: ', stats.pearsonr(encoded_intervals, np.array(grades_and_drop_out))[0])\n",
        "print('Коэффициент корреляции Пирсона между интервалом успеваемости и процентом студентов с депрессией: ', stats.pearsonr(encoded_intervals, np.array(grades_and_depression))[0])"
      ],
      "metadata": {
        "id": "Pau3h447TFfh",
        "outputId": "c1151131-5150-4c28-bfb3-6dc02db65207",
        "colab": {
          "base_uri": "https://localhost:8080/"
        }
      },
      "execution_count": null,
      "outputs": [
        {
          "output_type": "stream",
          "name": "stdout",
          "text": [
            "Коэффициент корреляции Пирсона между интервалом успеваемости и процентом студентов, думавших об отчислении:  -0.9701760598434188\n",
            "Коэффициент корреляции Пирсона между интервалом успеваемости и процентом студентов с депрессией:  -0.6315476517243566\n"
          ]
        }
      ]
    },
    {
      "cell_type": "markdown",
      "source": [
        "Полученные коэффициенты говорят о том, что между успеваемостью и процентом студентов, думавших об отчислении, существует сильная обратная связь. А между успеваемостью и процентом студентов с депрессией существует средняя обратная связь.\n",
        "\n",
        "Немного объясним это с нашей стороны: большой процент людей с низкой успеваемостью, желающих отчислиться, вполне ожидаем. Существует довольно популярное мнение, что высшее образование в принципе не так важно (отсюда идут мысли об отчислении), соответсвенно у таких студентов будет более простое отношение к оценкам. \n",
        "\n",
        "А вот к обратной зависимости по проценту людей с депрессией я бы не стала относится серьезно. Кажется, что в нашем возрасте мало людей будет впадать в депрессию только из-за низкой успеваемости, такое заболевание будет сопроваждаться и другими причинами. Так что к этим полученным данным я бы отнеслась как к совпадению.\n"
      ],
      "metadata": {
        "id": "zzSelKCvgsdm"
      }
    },
    {
      "cell_type": "code",
      "source": [
        ""
      ],
      "metadata": {
        "id": "rPXNyFIpYErd"
      },
      "execution_count": null,
      "outputs": []
    }
  ]
}